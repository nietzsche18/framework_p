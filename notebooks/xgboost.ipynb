{
 "cells": [
  {
   "cell_type": "code",
   "execution_count": 1,
   "id": "f937461d",
   "metadata": {},
   "outputs": [
    {
     "data": {
      "text/plain": [
       "(45702, 16)"
      ]
     },
     "execution_count": 1,
     "metadata": {},
     "output_type": "execute_result"
    }
   ],
   "source": [
    "import xgboost as xgb\n",
    "import pandas as pd\n",
    "from sklearn.metrics import accuracy_score\n",
    "from sklearn.preprocessing import LabelEncoder\n",
    "from sklearn.model_selection import train_test_split\n",
    "import numpy as np\n",
    "\n",
    "\n",
    "# load data into pandas DataFrame\n",
    "data = pd.read_csv(r'C:\\Users\\33670\\Desktop\\framework\\data_collection\\historical_data\\strat1.csv')\n",
    "#data = data.drop('open', axis=1)\n",
    "data = data[data['market_cap'] > 1000000000]\n",
    "data.shape"
   ]
  },
  {
   "cell_type": "code",
   "execution_count": 2,
   "id": "52682933",
   "metadata": {},
   "outputs": [
    {
     "name": "stdout",
     "output_type": "stream",
     "text": [
      "ticker                                         category\n",
      "open                                            float64\n",
      "above_20sma                                        bool\n",
      "green_days                                      float64\n",
      "red_days                                        float64\n",
      "from_pm_high_to_open                            float64\n",
      "gap                                             float64\n",
      "market_cap                                      float64\n",
      "number_of_red_candles_one_hour_before_open      float64\n",
      "percent_of_red_candles_one_hour_before_open     float64\n",
      "pm_float_rotation                               float64\n",
      "pm_dollar_volume                                float64\n",
      "sigma_percent                                   float64\n",
      "to_predict                                         bool\n",
      "entries                                         float64\n",
      "exits                                           float64\n",
      "dtype: object\n"
     ]
    }
   ],
   "source": [
    "data['ticker'] = data[\"ticker\"].astype(\"category\")\n",
    "print(data.dtypes)"
   ]
  },
  {
   "cell_type": "code",
   "execution_count": 3,
   "id": "e5636ae5",
   "metadata": {},
   "outputs": [
    {
     "data": {
      "text/html": [
       "<div>\n",
       "<style scoped>\n",
       "    .dataframe tbody tr th:only-of-type {\n",
       "        vertical-align: middle;\n",
       "    }\n",
       "\n",
       "    .dataframe tbody tr th {\n",
       "        vertical-align: top;\n",
       "    }\n",
       "\n",
       "    .dataframe thead th {\n",
       "        text-align: right;\n",
       "    }\n",
       "</style>\n",
       "<table border=\"1\" class=\"dataframe\">\n",
       "  <thead>\n",
       "    <tr style=\"text-align: right;\">\n",
       "      <th></th>\n",
       "      <th>green_days</th>\n",
       "      <th>red_days</th>\n",
       "      <th>first_hour_max_down</th>\n",
       "      <th>first_hour_move</th>\n",
       "      <th>from_pm_high_to_open</th>\n",
       "      <th>gap</th>\n",
       "      <th>market_cap</th>\n",
       "      <th>number_of_red_candles_one_hour_before_open</th>\n",
       "      <th>percent_of_red_candles_one_hour_before_open</th>\n",
       "      <th>pm_float_rotation</th>\n",
       "      <th>sigma_percent</th>\n",
       "      <th>pm_dollar_volume</th>\n",
       "    </tr>\n",
       "  </thead>\n",
       "  <tbody>\n",
       "    <tr>\n",
       "      <th>count</th>\n",
       "      <td>45702.000000</td>\n",
       "      <td>45702.000000</td>\n",
       "      <td>45702.000000</td>\n",
       "      <td>45702.000000</td>\n",
       "      <td>35869.000000</td>\n",
       "      <td>45702.000000</td>\n",
       "      <td>4.570200e+04</td>\n",
       "      <td>35869.000000</td>\n",
       "      <td>35869.000000</td>\n",
       "      <td>3.295700e+04</td>\n",
       "      <td>45702.000000</td>\n",
       "      <td>3.586900e+04</td>\n",
       "    </tr>\n",
       "    <tr>\n",
       "      <th>mean</th>\n",
       "      <td>0.963722</td>\n",
       "      <td>0.965866</td>\n",
       "      <td>-0.010475</td>\n",
       "      <td>0.000034</td>\n",
       "      <td>-0.007581</td>\n",
       "      <td>-0.000825</td>\n",
       "      <td>1.244170e+11</td>\n",
       "      <td>5.472804</td>\n",
       "      <td>0.228031</td>\n",
       "      <td>1.438193e-04</td>\n",
       "      <td>0.043591</td>\n",
       "      <td>2.373320e+07</td>\n",
       "    </tr>\n",
       "    <tr>\n",
       "      <th>std</th>\n",
       "      <td>1.347013</td>\n",
       "      <td>1.334535</td>\n",
       "      <td>0.011694</td>\n",
       "      <td>0.015702</td>\n",
       "      <td>0.011461</td>\n",
       "      <td>0.016851</td>\n",
       "      <td>2.794163e+11</td>\n",
       "      <td>8.071929</td>\n",
       "      <td>0.218336</td>\n",
       "      <td>1.406885e-03</td>\n",
       "      <td>0.033505</td>\n",
       "      <td>1.263081e+08</td>\n",
       "    </tr>\n",
       "    <tr>\n",
       "      <th>min</th>\n",
       "      <td>0.000000</td>\n",
       "      <td>0.000000</td>\n",
       "      <td>-0.198795</td>\n",
       "      <td>-0.193253</td>\n",
       "      <td>-0.231911</td>\n",
       "      <td>-0.296635</td>\n",
       "      <td>1.000328e+09</td>\n",
       "      <td>0.000000</td>\n",
       "      <td>0.000000</td>\n",
       "      <td>4.985275e-09</td>\n",
       "      <td>0.001110</td>\n",
       "      <td>2.240000e+02</td>\n",
       "    </tr>\n",
       "    <tr>\n",
       "      <th>25%</th>\n",
       "      <td>0.000000</td>\n",
       "      <td>0.000000</td>\n",
       "      <td>-0.013706</td>\n",
       "      <td>-0.006944</td>\n",
       "      <td>-0.010754</td>\n",
       "      <td>-0.007479</td>\n",
       "      <td>1.356496e+10</td>\n",
       "      <td>0.000000</td>\n",
       "      <td>0.000000</td>\n",
       "      <td>3.042383e-06</td>\n",
       "      <td>0.023235</td>\n",
       "      <td>1.352627e+05</td>\n",
       "    </tr>\n",
       "    <tr>\n",
       "      <th>50%</th>\n",
       "      <td>0.000000</td>\n",
       "      <td>0.000000</td>\n",
       "      <td>-0.007052</td>\n",
       "      <td>0.000123</td>\n",
       "      <td>-0.004796</td>\n",
       "      <td>-0.000394</td>\n",
       "      <td>4.107207e+10</td>\n",
       "      <td>2.000000</td>\n",
       "      <td>0.217391</td>\n",
       "      <td>1.206058e-05</td>\n",
       "      <td>0.034424</td>\n",
       "      <td>6.501499e+05</td>\n",
       "    </tr>\n",
       "    <tr>\n",
       "      <th>75%</th>\n",
       "      <td>1.000000</td>\n",
       "      <td>1.000000</td>\n",
       "      <td>-0.003014</td>\n",
       "      <td>0.006986</td>\n",
       "      <td>-0.001202</td>\n",
       "      <td>0.005780</td>\n",
       "      <td>1.325205e+11</td>\n",
       "      <td>7.000000</td>\n",
       "      <td>0.352941</td>\n",
       "      <td>6.485399e-05</td>\n",
       "      <td>0.052402</td>\n",
       "      <td>3.538695e+06</td>\n",
       "    </tr>\n",
       "    <tr>\n",
       "      <th>max</th>\n",
       "      <td>12.000000</td>\n",
       "      <td>11.000000</td>\n",
       "      <td>0.000000</td>\n",
       "      <td>0.265227</td>\n",
       "      <td>0.179231</td>\n",
       "      <td>0.795620</td>\n",
       "      <td>2.825000e+12</td>\n",
       "      <td>45.000000</td>\n",
       "      <td>1.000000</td>\n",
       "      <td>1.954773e-01</td>\n",
       "      <td>0.660244</td>\n",
       "      <td>4.093090e+09</td>\n",
       "    </tr>\n",
       "  </tbody>\n",
       "</table>\n",
       "</div>"
      ],
      "text/plain": [
       "         green_days      red_days  first_hour_max_down  first_hour_move  \\\n",
       "count  45702.000000  45702.000000         45702.000000     45702.000000   \n",
       "mean       0.963722      0.965866            -0.010475         0.000034   \n",
       "std        1.347013      1.334535             0.011694         0.015702   \n",
       "min        0.000000      0.000000            -0.198795        -0.193253   \n",
       "25%        0.000000      0.000000            -0.013706        -0.006944   \n",
       "50%        0.000000      0.000000            -0.007052         0.000123   \n",
       "75%        1.000000      1.000000            -0.003014         0.006986   \n",
       "max       12.000000     11.000000             0.000000         0.265227   \n",
       "\n",
       "       from_pm_high_to_open           gap    market_cap  \\\n",
       "count          35869.000000  45702.000000  4.570200e+04   \n",
       "mean              -0.007581     -0.000825  1.244170e+11   \n",
       "std                0.011461      0.016851  2.794163e+11   \n",
       "min               -0.231911     -0.296635  1.000328e+09   \n",
       "25%               -0.010754     -0.007479  1.356496e+10   \n",
       "50%               -0.004796     -0.000394  4.107207e+10   \n",
       "75%               -0.001202      0.005780  1.325205e+11   \n",
       "max                0.179231      0.795620  2.825000e+12   \n",
       "\n",
       "       number_of_red_candles_one_hour_before_open  \\\n",
       "count                                35869.000000   \n",
       "mean                                     5.472804   \n",
       "std                                      8.071929   \n",
       "min                                      0.000000   \n",
       "25%                                      0.000000   \n",
       "50%                                      2.000000   \n",
       "75%                                      7.000000   \n",
       "max                                     45.000000   \n",
       "\n",
       "       percent_of_red_candles_one_hour_before_open  pm_float_rotation  \\\n",
       "count                                 35869.000000       3.295700e+04   \n",
       "mean                                      0.228031       1.438193e-04   \n",
       "std                                       0.218336       1.406885e-03   \n",
       "min                                       0.000000       4.985275e-09   \n",
       "25%                                       0.000000       3.042383e-06   \n",
       "50%                                       0.217391       1.206058e-05   \n",
       "75%                                       0.352941       6.485399e-05   \n",
       "max                                       1.000000       1.954773e-01   \n",
       "\n",
       "       sigma_percent  pm_dollar_volume  \n",
       "count   45702.000000      3.586900e+04  \n",
       "mean        0.043591      2.373320e+07  \n",
       "std         0.033505      1.263081e+08  \n",
       "min         0.001110      2.240000e+02  \n",
       "25%         0.023235      1.352627e+05  \n",
       "50%         0.034424      6.501499e+05  \n",
       "75%         0.052402      3.538695e+06  \n",
       "max         0.660244      4.093090e+09  "
      ]
     },
     "execution_count": 3,
     "metadata": {},
     "output_type": "execute_result"
    }
   ],
   "source": [
    "data.describe()"
   ]
  },
  {
   "cell_type": "code",
   "execution_count": 4,
   "id": "76d60d00",
   "metadata": {},
   "outputs": [],
   "source": [
    "# separate features and target variable\n",
    "X = data.drop(['strat1','first_hour_move', 'first_hour_max_down'], axis=1)\n",
    "y = data['strat1']"
   ]
  },
  {
   "cell_type": "code",
   "execution_count": 5,
   "id": "9cdb6c9e",
   "metadata": {},
   "outputs": [],
   "source": [
    "# split data into training and testing sets\n",
    "X_train, X_test, y_train, y_test = train_test_split(X, y, test_size=0.5, random_state=42)"
   ]
  },
  {
   "cell_type": "code",
   "execution_count": 6,
   "id": "9dbbecbf",
   "metadata": {},
   "outputs": [],
   "source": [
    "# define the XGBoost classifier model\n",
    "model = xgb.XGBClassifier()"
   ]
  },
  {
   "cell_type": "code",
   "execution_count": 7,
   "id": "80f3e4a5",
   "metadata": {},
   "outputs": [],
   "source": [
    "# Create regression matrices\n",
    "dtrain_reg = xgb.DMatrix(X_train, y_train, enable_categorical=True)\n",
    "dtest_reg = xgb.DMatrix(X_test, y_test, enable_categorical=True)"
   ]
  },
  {
   "cell_type": "code",
   "execution_count": 8,
   "id": "1a611507",
   "metadata": {},
   "outputs": [],
   "source": [
    "# set XGBoost parameters\n",
    "params = {\n",
    "    'objective': 'binary:logistic',\n",
    "    'eval_metric': 'logloss',\n",
    "    'max_depth': 5,\n",
    "    'eta': 0.1\n",
    "}\n",
    "\n",
    "# train the XGBoost model\n",
    "model = xgb.train(params=params, dtrain=dtrain_reg, num_boost_round=100)\n"
   ]
  },
  {
   "cell_type": "code",
   "execution_count": 9,
   "id": "c2286b45",
   "metadata": {},
   "outputs": [],
   "source": [
    "# make predictions on the test set\n",
    "y_pred = model.predict(dtest_reg)"
   ]
  },
  {
   "cell_type": "code",
   "execution_count": 10,
   "id": "f951ad5c",
   "metadata": {},
   "outputs": [
    {
     "name": "stdout",
     "output_type": "stream",
     "text": [
      "Accuracy: 83.81%\n"
     ]
    }
   ],
   "source": [
    "# evaluate model performance\n",
    "accuracy = accuracy_score(y_test, y_pred.round())\n",
    "\n",
    "print('Accuracy: {:.2f}%'.format(accuracy * 100))"
   ]
  },
  {
   "cell_type": "code",
   "execution_count": 11,
   "id": "641d278f",
   "metadata": {},
   "outputs": [
    {
     "data": {
      "image/png": "[encoded data removed]",
      "text/plain": [
       "<Figure size 640x480 with 1 Axes>"
      ]
     },
     "metadata": {},
     "output_type": "display_data"
    }
   ],
   "source": [
    "import matplotlib.pyplot as plt\n",
    "xgb.plot_importance(model)\n",
    "plt.show()"
   ]
  },
  {
   "cell_type": "markdown",
   "id": "9814242c",
   "metadata": {},
   "source": [
    "# PnL Calculation"
   ]
  },
  {
   "cell_type": "code",
   "execution_count": 12,
   "id": "26923513",
   "metadata": {},
   "outputs": [],
   "source": [
    "# calcule la PnL\n",
    "X_test['pred'] = y_pred\n",
    "X_test['strat1'] = y_test\n",
    "X_test = X_test.join(data['first_hour_move'], how='inner')\n",
    "X_test = X_test.join(data['first_hour_max_down'], how='inner')"
   ]
  },
  {
   "cell_type": "code",
   "execution_count": 13,
   "id": "b2913efa",
   "metadata": {
    "scrolled": true
   },
   "outputs": [
    {
     "name": "stdout",
     "output_type": "stream",
     "text": [
      "509\n",
      "7.71766917293233\n"
     ]
    }
   ],
   "source": [
    "\"\"\"\n",
    "# first hour config.\n",
    "number_of_trades = 0\n",
    "pnl = 0\n",
    "for index, row in X_test.iterrows():\n",
    "    if row['pred'] > 0.5:\n",
    "        number_of_trades +=1\n",
    "        if row['strat1'] == True:\n",
    "            pnl += 1.5\n",
    "        elif row['first_hour_max_down'] > -0.01:\n",
    "            pnl = 100*row['first_hour_move']\n",
    "        else:\n",
    "            pnl -= 1\n",
    "\n",
    "print(number_of_trades)\n",
    "print(pnl)\n",
    "\"\"\""
   ]
  },
  {
   "cell_type": "code",
   "execution_count": 14,
   "id": "82c82988",
   "metadata": {},
   "outputs": [
    {
     "data": {
      "text/plain": [
       "(2700, 16)"
      ]
     },
     "execution_count": 14,
     "metadata": {},
     "output_type": "execute_result"
    }
   ],
   "source": [
    "X_test.shape"
   ]
  },
  {
   "cell_type": "markdown",
   "id": "0a6583e7",
   "metadata": {},
   "source": [
    "# Test on additionnal data"
   ]
  },
  {
   "cell_type": "code",
   "execution_count": 12,
   "id": "0ae99f8e",
   "metadata": {},
   "outputs": [],
   "source": [
    "data_test = pd.read_csv(r'C:\\Users\\33670\\Desktop\\framework\\data_collection\\historical_data\\strat1_test.csv')"
   ]
  },
  {
   "cell_type": "code",
   "execution_count": 13,
   "id": "243c5a82",
   "metadata": {},
   "outputs": [
    {
     "name": "stdout",
     "output_type": "stream",
     "text": [
      "ticker                                         category\n",
      "above_20sma                                        bool\n",
      "green_days                                      float64\n",
      "red_days                                        float64\n",
      "from_pm_high_to_open                            float64\n",
      "gap                                             float64\n",
      "market_cap                                      float64\n",
      "number_of_red_candles_one_hour_before_open      float64\n",
      "percent_of_red_candles_one_hour_before_open     float64\n",
      "pm_float_rotation                               float64\n",
      "sigma_percent                                   float64\n",
      "strat1                                             bool\n",
      "pm_dollar_volume                                float64\n",
      "dtype: object\n"
     ]
    }
   ],
   "source": [
    "data_test['ticker'] = data_test[\"ticker\"].astype(\"category\")\n",
    "print(data_test.dtypes)"
   ]
  },
  {
   "cell_type": "code",
   "execution_count": 14,
   "id": "d2175bf2",
   "metadata": {},
   "outputs": [],
   "source": [
    "X_test2 = data_test.drop('strat1', axis=1)\n",
    "y_test2 = data_test['strat1']"
   ]
  },
  {
   "cell_type": "code",
   "execution_count": 15,
   "id": "e82b47f9",
   "metadata": {},
   "outputs": [],
   "source": [
    "dtest_reg2 = xgb.DMatrix(X_test2, y_test2, enable_categorical=True)"
   ]
  },
  {
   "cell_type": "code",
   "execution_count": 16,
   "id": "0623e335",
   "metadata": {},
   "outputs": [],
   "source": [
    "y_pred_test = model.predict(dtest_reg2)"
   ]
  },
  {
   "cell_type": "code",
   "execution_count": 17,
   "id": "2fec0240",
   "metadata": {},
   "outputs": [
    {
     "name": "stdout",
     "output_type": "stream",
     "text": [
      "Accuracy: 83.97%\n"
     ]
    }
   ],
   "source": [
    "accuracy = accuracy_score(y_test2, y_pred_test.round())\n",
    "print('Accuracy: {:.2f}%'.format(accuracy * 100))"
   ]
  },
  {
   "cell_type": "code",
   "execution_count": 19,
   "id": "caa3178a",
   "metadata": {},
   "outputs": [],
   "source": [
    "data_test['pred'] = y_pred_test"
   ]
  },
  {
   "cell_type": "code",
   "execution_count": 36,
   "id": "a68b9bbb",
   "metadata": {},
   "outputs": [
    {
     "data": {
      "text/plain": [
       "(200, 14)"
      ]
     },
     "execution_count": 36,
     "metadata": {},
     "output_type": "execute_result"
    }
   ],
   "source": [
    "data_test[data_test['pred']>0.6].shape"
   ]
  },
  {
   "cell_type": "code",
   "execution_count": 37,
   "id": "4c105b44",
   "metadata": {},
   "outputs": [
    {
     "name": "stderr",
     "output_type": "stream",
     "text": [
      "C:\\Users\\33670\\AppData\\Local\\Temp\\ipykernel_1636\\4038829011.py:1: UserWarning: Boolean Series key will be reindexed to match DataFrame index.\n",
      "  data_test[data_test['pred']>0.6][data_test['strat1'] == True].shape\n"
     ]
    },
    {
     "data": {
      "text/plain": [
       "(105, 14)"
      ]
     },
     "execution_count": 37,
     "metadata": {},
     "output_type": "execute_result"
    }
   ],
   "source": [
    "data_test[data_test['pred']>0.6][data_test['strat1'] == True].shape"
   ]
  },
  {
   "cell_type": "code",
   "execution_count": 39,
   "id": "61314cdf",
   "metadata": {},
   "outputs": [
    {
     "name": "stderr",
     "output_type": "stream",
     "text": [
      "C:\\Users\\33670\\AppData\\Local\\Temp\\ipykernel_1636\\3715162864.py:1: UserWarning: Boolean Series key will be reindexed to match DataFrame index.\n",
      "  data_test[data_test['strat1'] == True][data_test['pred']>0.6].shape\n"
     ]
    },
    {
     "data": {
      "text/plain": [
       "(105, 14)"
      ]
     },
     "execution_count": 39,
     "metadata": {},
     "output_type": "execute_result"
    }
   ],
   "source": [
    "data_test[data_test['strat1'] == True][data_test['pred']>0.6].shape"
   ]
  },
  {
   "cell_type": "code",
   "execution_count": 29,
   "id": "6b4da73e",
   "metadata": {},
   "outputs": [
    {
     "data": {
      "text/plain": [
       "0        False\n",
       "1        False\n",
       "2        False\n",
       "3        False\n",
       "4         True\n",
       "         ...  \n",
       "22846     True\n",
       "22847    False\n",
       "22848    False\n",
       "22849     True\n",
       "22850     True\n",
       "Name: strat1, Length: 22851, dtype: bool"
      ]
     },
     "execution_count": 29,
     "metadata": {},
     "output_type": "execute_result"
    }
   ],
   "source": [
    "y_test2"
   ]
  },
  {
   "cell_type": "code",
   "execution_count": null,
   "id": "8997506c",
   "metadata": {},
   "outputs": [],
   "source": []
  }
 ],
 "metadata": {
  "kernelspec": {
   "display_name": "Python [conda env:py38] *",
   "language": "python",
   "name": "conda-env-py38-py"
  },
  "language_info": {
   "codemirror_mode": {
    "name": "ipython",
    "version": 3
   },
   "file_extension": ".py",
   "mimetype": "text/x-python",
   "name": "python",
   "nbconvert_exporter": "python",
   "pygments_lexer": "ipython3",
   "version": "3.8.13"
  }
 },
 "nbformat": 4,
 "nbformat_minor": 5
}
