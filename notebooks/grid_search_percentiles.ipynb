{
 "cells": [
  {
   "cell_type": "raw",
   "id": "9a27318b",
   "metadata": {},
   "source": [
    "Ce notebook fait un grid search par groupe de trois paramètres selon 3 filtres sur les percentiles (<0.3, 0.3<x<0.7, >0.7)"
   ]
  },
  {
   "cell_type": "code",
   "execution_count": 1,
   "id": "b1bc3cae",
   "metadata": {},
   "outputs": [],
   "source": [
    "import pandas as pd"
   ]
  },
  {
   "cell_type": "code",
   "execution_count": 2,
   "id": "ec7cfe27",
   "metadata": {},
   "outputs": [
    {
     "name": "stderr",
     "output_type": "stream",
     "text": [
      "C:\\Users\\33670\\AppData\\Local\\Temp\\ipykernel_29500\\3783695647.py:1: DtypeWarning: Columns (98) have mixed types. Specify dtype option on import or set low_memory=False.\n",
      "  df = pd.read_csv(r'C:\\Users\\33670\\Desktop\\framework\\data_collection\\historical_data/top100_rolling_percentiles_short_strat_2022.csv')\n"
     ]
    }
   ],
   "source": [
    "df = pd.read_csv(r'C:\\Users\\33670\\Desktop\\framework\\data_collection\\historical_data/top100_rolling_percentiles_short_strat_2022.csv')\n",
    "\n",
    "# Long strat\n",
    "#df = df[['first_hour_move','open_to_close_move','power_hour_move','gap_percentile', 'consecutive_days_above_20sma_percentile', 'open_from_BB_up_percentile', 'pm_dollar_volume_percentile','x_day_high_at_open_percentile','1month_change_from_high_percentile','red_days_percentile','green_days_percentile']]\n",
    "\n",
    "# Short strat \n",
    "#df = df[['first_hour_move','open_to_close_move','power_hour_move','gap_percentile','average_dollar_volume_previous_day_percentile','open_from_BB_down_percentile','pm_dollar_volume_percentile','x_day_high_at_open_percentile','x_day_low_at_open_percentile','1month_change_from_high_percentile','red_days_percentile','green_days_percentile','sigma_percent_percentile','percent_of_red_candles_one_hour_before_open']]\n",
    "\n"
   ]
  },
  {
   "cell_type": "markdown",
   "id": "62beb0b7",
   "metadata": {},
   "source": [
    "def drop_rows_with_non_numeric(df):\n",
    "    mask = df.applymap(lambda x: isinstance(x, (int, float)) and not isinstance(x, bool))\n",
    "    return df[mask.all(axis=1)]\n",
    "\n",
    "df_cleaned = drop_rows_with_non_numeric(df)\n",
    "print(df_cleaned)"
   ]
  },
  {
   "cell_type": "markdown",
   "id": "49bacbbc",
   "metadata": {},
   "source": [
    "with pd.option_context('display.max_rows', None, 'display.max_columns', None):  # permet d'afficher toutes les lignes & colonnes more options can be specified also\n",
    "    print(df)"
   ]
  },
  {
   "cell_type": "code",
   "execution_count": 3,
   "id": "f6d7637d",
   "metadata": {},
   "outputs": [
    {
     "name": "stdout",
     "output_type": "stream",
     "text": [
      "(44388, 115)\n"
     ]
    }
   ],
   "source": [
    "print(df.shape)"
   ]
  },
  {
   "cell_type": "code",
   "execution_count": 4,
   "id": "ce503be7",
   "metadata": {},
   "outputs": [],
   "source": [
    "from itertools import combinations\n",
    "\n",
    "\n",
    "# Prétraitement des données\n",
    "columns_to_convert = [\n",
    "    'first_hour_move', 'open_to_close_move', 'power_hour_move', \n",
    "    'gap_percentile','average_dollar_volume_previous_day_percentile',\n",
    "    'open_from_BB_down_percentile','pm_dollar_volume_percentile',\n",
    "    'x_day_high_at_open_percentile','x_day_low_at_open_percentile',\n",
    "    '1month_change_from_high_percentile','1month_change_from_high_at_open_percentile','red_days_percentile',\n",
    "    'green_days_percentile','sigma_percent_percentile','percent_of_red_candles_one_hour_before_open'\n",
    "]\n",
    "\n",
    "for col in columns_to_convert:\n",
    "    df[col] = df[col].replace(['na', '#VALUE!','','²'], float('nan')).astype(str).str.replace(',', '.').astype(float)"
   ]
  },
  {
   "cell_type": "code",
   "execution_count": 5,
   "id": "d1e4fe43",
   "metadata": {},
   "outputs": [],
   "source": [
    "# Définir les combinaisons de paramètres et les conditions de filtrage\n",
    "parameters = [\n",
    "    'first_hour_move', 'open_to_close_move', 'power_hour_move', \n",
    "    'gap_percentile','average_dollar_volume_previous_day_percentile',\n",
    "    'open_from_BB_down_percentile','pm_dollar_volume_percentile',\n",
    "    'x_day_high_at_open_percentile','x_day_low_at_open_percentile',\n",
    "    '1month_change_from_high_percentile','red_days_percentile',\n",
    "    'green_days_percentile','sigma_percent_percentile','percent_of_red_candles_one_hour_before_open'\n",
    "]\n",
    "\n",
    "combinations_of_three = list(combinations(parameters, 3))"
   ]
  },
  {
   "cell_type": "code",
   "execution_count": 6,
   "id": "a7d13ba1",
   "metadata": {},
   "outputs": [],
   "source": [
    "def all_filter_conditions_with_labels(param):\n",
    "    conditions = [\n",
    "        (df[param] < 0.3),\n",
    "        (df[param] > 0.7),\n",
    "        (df[param] >= 0.3) & (df[param] <= 0.7)\n",
    "    ]\n",
    "    labels = [\n",
    "        \"< 0.3\",\n",
    "        \"> 0.7\",\n",
    "        \"0.3 - 0.7\"\n",
    "    ]\n",
    "    return list(zip(conditions, labels))"
   ]
  },
  {
   "cell_type": "code",
   "execution_count": 7,
   "id": "260216e1",
   "metadata": {},
   "outputs": [],
   "source": [
    "# Grid search avec tous les filtres possibles\n",
    "results_with_all_filters = []\n",
    "\n",
    "for combo in combinations_of_three:\n",
    "    for condition_A, label_A in all_filter_conditions_with_labels(combo[0]):\n",
    "        for condition_B, label_B in all_filter_conditions_with_labels(combo[1]):\n",
    "            for condition_C, label_C in all_filter_conditions_with_labels(combo[2]):\n",
    "                combined_condition = condition_A & condition_B & condition_C\n",
    "                combined_label = f\"{combo[0]}: {label_A}, {combo[1]}: {label_B}, {combo[2]}: {label_C}\"\n",
    "                \n",
    "                filtered_df = df[combined_condition]\n",
    "                \n",
    "                if len(filtered_df) >= 50:\n",
    "                    results_with_all_filters.append({\n",
    "                        'Parameters': combo,\n",
    "                        'Filter': combined_label,\n",
    "                        'Sum_first_hour_move': filtered_df['first_hour_move'].sum(),\n",
    "                        'Sum_open_to_close_move': filtered_df['open_to_close_move'].sum(),\n",
    "                        'Sum_power_hour_move': filtered_df['power_hour_move'].sum(),\n",
    "                        'Number of Rows': len(filtered_df)\n",
    "                    })\n",
    "\n",
    "results_with_all_filters_df = pd.DataFrame(results_with_all_filters)\n",
    "sorted_results_with_all_filters_df = results_with_all_filters_df.sort_values(by=\"Sum_open_to_close_move\", ascending=False)\n",
    "\n",
    "# Sauvegarder les résultats dans un fichier CSV\n",
    "sorted_results_with_all_filters_df.to_csv(r'C:\\Users\\33670\\Desktop\\framework\\data_collection\\historical_data/top100_rolling_percentiles_short_strat_resultats_grid_search.csv', index=False)"
   ]
  },
  {
   "cell_type": "code",
   "execution_count": null,
   "id": "89bd3e93",
   "metadata": {},
   "outputs": [],
   "source": []
  }
 ],
 "metadata": {
  "kernelspec": {
   "display_name": "Python [conda env:py38] *",
   "language": "python",
   "name": "conda-env-py38-py"
  },
  "language_info": {
   "codemirror_mode": {
    "name": "ipython",
    "version": 3
   },
   "file_extension": ".py",
   "mimetype": "text/x-python",
   "name": "python",
   "nbconvert_exporter": "python",
   "pygments_lexer": "ipython3",
   "version": "3.8.13"
  }
 },
 "nbformat": 4,
 "nbformat_minor": 5
}
