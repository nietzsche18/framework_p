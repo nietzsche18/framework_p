{
 "cells": [
  {
   "cell_type": "markdown",
   "id": "bfb19fbd",
   "metadata": {},
   "source": [
    "# Random Forest"
   ]
  },
  {
   "cell_type": "code",
   "execution_count": 1,
   "id": "aa5caca2",
   "metadata": {},
   "outputs": [],
   "source": [
    "#coding: utf-8\n",
    "#source activate py38"
   ]
  },
  {
   "cell_type": "code",
   "execution_count": 2,
   "id": "aca5a39d",
   "metadata": {},
   "outputs": [],
   "source": [
    "import pandas as pd\n",
    "from sklearn.ensemble import RandomForestClassifier\n",
    "from sklearn.metrics import mean_squared_error\n",
    "from sklearn.model_selection import RandomizedSearchCV, train_test_split\n",
    "from sklearn.preprocessing import StandardScaler\n",
    "import numpy as np"
   ]
  },
  {
   "cell_type": "code",
   "execution_count": 3,
   "id": "c3acf02f",
   "metadata": {},
   "outputs": [],
   "source": [
    "# Load the data from a CSV file\n",
    "data = pd.read_csv(r'C:\\Users\\33670\\Desktop\\framework\\data_collection\\historical_data\\strat1.csv')"
   ]
  },
  {
   "cell_type": "code",
   "execution_count": 4,
   "id": "b619544a",
   "metadata": {},
   "outputs": [],
   "source": [
    "# convert non-numeric values to NaN\n",
    "data = data.apply(pd.to_numeric, errors='coerce')"
   ]
  },
  {
   "cell_type": "raw",
   "id": "8e407f63",
   "metadata": {},
   "source": [
    "Features selection"
   ]
  },
  {
   "cell_type": "code",
   "execution_count": 5,
   "id": "047b2064",
   "metadata": {},
   "outputs": [
    {
     "data": {
      "text/plain": [
       "(27492, 15)"
      ]
     },
     "execution_count": 5,
     "metadata": {},
     "output_type": "execute_result"
    }
   ],
   "source": [
    "data.shape"
   ]
  },
  {
   "cell_type": "code",
   "execution_count": 9,
   "id": "aca681fa",
   "metadata": {},
   "outputs": [],
   "source": [
    "# là il faudra boucler sur les target_variable\n",
    "\n",
    "# Split the data into training and testing sets\n",
    "#df_X = data[['change_from_open', 'gap','pm_float_rotation)','sigma_percent','market_cap', 'pm_volume','number_of_red_candles_one_hour_before_open','percent_of_red_candles_one_hour_before_open','from_pm_high_to_open','pm_retracement']]\n",
    "df_X = data[['ticker','above_20sma','above_50sma','green_days','red_days','from_pm_high_to_open','gap','market_cap','number_of_red_candles_one_hour_before_open','percent_of_red_candles_one_hour_before_open','pm_float_rotation','pm_dollar_volume','sigma_percent', 'strat1']]\n",
    "\n",
    "# transform to numeric (or NaN)\n",
    "df_X = df_X.apply(pd.to_numeric, errors='coerce')\n",
    "\n",
    "# drop rows with NaN values // à voir si on la garde celle-là\n",
    "#df_X = df_X.dropna(how='any', subset=df_X.columns)\n",
    "\n",
    "il faut drop uniquement certaines colonnes importantes: gap, red_days, \n"
   ]
  },
  {
   "cell_type": "markdown",
   "id": "84609fd3",
   "metadata": {},
   "source": [
    "Filter #1"
   ]
  },
  {
   "cell_type": "code",
   "execution_count": 10,
   "id": "c9364f51",
   "metadata": {},
   "outputs": [
    {
     "data": {
      "text/plain": [
       "(0, 14)"
      ]
     },
     "execution_count": 10,
     "metadata": {},
     "output_type": "execute_result"
    }
   ],
   "source": [
    "# filter on specific condition (gap > 4%)\n",
    "#df_X = df_X[df_X['gap'] > 4]\n",
    "#df_X['equal_or_above_4'] = df_X['equal_or_above_4'].astype(object)\n",
    "\n",
    "df_X.shape"
   ]
  },
  {
   "cell_type": "raw",
   "id": "79df2489",
   "metadata": {},
   "source": [
    "Output preparation"
   ]
  },
  {
   "cell_type": "code",
   "execution_count": 7,
   "id": "09ac2c38",
   "metadata": {},
   "outputs": [],
   "source": [
    "# drop target column\n",
    "y = df_X['equal_or_above_4']\n",
    "df_X = df_X.drop('equal_or_above_4', axis=1)"
   ]
  },
  {
   "cell_type": "code",
   "execution_count": 8,
   "id": "6c15181e",
   "metadata": {},
   "outputs": [],
   "source": [
    "X_train, X_test, y_train, y_test = train_test_split(df_X, y, test_size=0.2, random_state=42)"
   ]
  },
  {
   "cell_type": "code",
   "execution_count": 9,
   "id": "e2326492",
   "metadata": {},
   "outputs": [
    {
     "data": {
      "text/html": [
       "<div>\n",
       "<style scoped>\n",
       "    .dataframe tbody tr th:only-of-type {\n",
       "        vertical-align: middle;\n",
       "    }\n",
       "\n",
       "    .dataframe tbody tr th {\n",
       "        vertical-align: top;\n",
       "    }\n",
       "\n",
       "    .dataframe thead th {\n",
       "        text-align: right;\n",
       "    }\n",
       "</style>\n",
       "<table border=\"1\" class=\"dataframe\">\n",
       "  <thead>\n",
       "    <tr style=\"text-align: right;\">\n",
       "      <th></th>\n",
       "      <th>gap</th>\n",
       "      <th>pm_float_rotation)</th>\n",
       "      <th>pm_volume</th>\n",
       "      <th>percent_of_red_candles_one_hour_before_open</th>\n",
       "      <th>from_pm_high_to_open</th>\n",
       "      <th>pm_retracement</th>\n",
       "    </tr>\n",
       "  </thead>\n",
       "  <tbody>\n",
       "    <tr>\n",
       "      <th>77403</th>\n",
       "      <td>5.921053</td>\n",
       "      <td>0.000</td>\n",
       "      <td>1098.0</td>\n",
       "      <td>0.000000</td>\n",
       "      <td>-0.003096</td>\n",
       "      <td>0.052632</td>\n",
       "    </tr>\n",
       "    <tr>\n",
       "      <th>77425</th>\n",
       "      <td>4.586130</td>\n",
       "      <td>0.001</td>\n",
       "      <td>96936.0</td>\n",
       "      <td>0.111111</td>\n",
       "      <td>-0.010582</td>\n",
       "      <td>0.196078</td>\n",
       "    </tr>\n",
       "    <tr>\n",
       "      <th>77583</th>\n",
       "      <td>4.564061</td>\n",
       "      <td>0.000</td>\n",
       "      <td>223.0</td>\n",
       "      <td>0.000000</td>\n",
       "      <td>-0.006109</td>\n",
       "      <td>0.123439</td>\n",
       "    </tr>\n",
       "    <tr>\n",
       "      <th>77612</th>\n",
       "      <td>4.207489</td>\n",
       "      <td>0.000</td>\n",
       "      <td>170075.0</td>\n",
       "      <td>0.240000</td>\n",
       "      <td>-0.005231</td>\n",
       "      <td>0.115240</td>\n",
       "    </tr>\n",
       "    <tr>\n",
       "      <th>77640</th>\n",
       "      <td>5.120214</td>\n",
       "      <td>0.003</td>\n",
       "      <td>1552819.0</td>\n",
       "      <td>0.538462</td>\n",
       "      <td>-0.033961</td>\n",
       "      <td>0.419192</td>\n",
       "    </tr>\n",
       "    <tr>\n",
       "      <th>77656</th>\n",
       "      <td>13.013699</td>\n",
       "      <td>0.021</td>\n",
       "      <td>10703864.0</td>\n",
       "      <td>0.375000</td>\n",
       "      <td>-0.038665</td>\n",
       "      <td>0.258865</td>\n",
       "    </tr>\n",
       "    <tr>\n",
       "      <th>77732</th>\n",
       "      <td>4.024966</td>\n",
       "      <td>0.000</td>\n",
       "      <td>49117.0</td>\n",
       "      <td>0.230769</td>\n",
       "      <td>0.000000</td>\n",
       "      <td>0.000000</td>\n",
       "    </tr>\n",
       "    <tr>\n",
       "      <th>77828</th>\n",
       "      <td>4.229979</td>\n",
       "      <td>0.000</td>\n",
       "      <td>2485.0</td>\n",
       "      <td>0.166667</td>\n",
       "      <td>-0.006524</td>\n",
       "      <td>0.139276</td>\n",
       "    </tr>\n",
       "    <tr>\n",
       "      <th>77926</th>\n",
       "      <td>4.387846</td>\n",
       "      <td>0.000</td>\n",
       "      <td>247.0</td>\n",
       "      <td>0.000000</td>\n",
       "      <td>0.000046</td>\n",
       "      <td>-0.001100</td>\n",
       "    </tr>\n",
       "    <tr>\n",
       "      <th>78312</th>\n",
       "      <td>4.514364</td>\n",
       "      <td>0.000</td>\n",
       "      <td>8162.0</td>\n",
       "      <td>0.071429</td>\n",
       "      <td>-0.024266</td>\n",
       "      <td>0.365385</td>\n",
       "    </tr>\n",
       "    <tr>\n",
       "      <th>78646</th>\n",
       "      <td>5.077453</td>\n",
       "      <td>0.002</td>\n",
       "      <td>1417093.0</td>\n",
       "      <td>0.310345</td>\n",
       "      <td>-0.002994</td>\n",
       "      <td>0.058511</td>\n",
       "    </tr>\n",
       "    <tr>\n",
       "      <th>78661</th>\n",
       "      <td>6.883790</td>\n",
       "      <td>0.003</td>\n",
       "      <td>1777896.0</td>\n",
       "      <td>0.384615</td>\n",
       "      <td>-0.001383</td>\n",
       "      <td>0.021053</td>\n",
       "    </tr>\n",
       "  </tbody>\n",
       "</table>\n",
       "</div>"
      ],
      "text/plain": [
       "             gap  pm_float_rotation)   pm_volume  \\\n",
       "77403   5.921053               0.000      1098.0   \n",
       "77425   4.586130               0.001     96936.0   \n",
       "77583   4.564061               0.000       223.0   \n",
       "77612   4.207489               0.000    170075.0   \n",
       "77640   5.120214               0.003   1552819.0   \n",
       "77656  13.013699               0.021  10703864.0   \n",
       "77732   4.024966               0.000     49117.0   \n",
       "77828   4.229979               0.000      2485.0   \n",
       "77926   4.387846               0.000       247.0   \n",
       "78312   4.514364               0.000      8162.0   \n",
       "78646   5.077453               0.002   1417093.0   \n",
       "78661   6.883790               0.003   1777896.0   \n",
       "\n",
       "       percent_of_red_candles_one_hour_before_open  from_pm_high_to_open  \\\n",
       "77403                                     0.000000             -0.003096   \n",
       "77425                                     0.111111             -0.010582   \n",
       "77583                                     0.000000             -0.006109   \n",
       "77612                                     0.240000             -0.005231   \n",
       "77640                                     0.538462             -0.033961   \n",
       "77656                                     0.375000             -0.038665   \n",
       "77732                                     0.230769              0.000000   \n",
       "77828                                     0.166667             -0.006524   \n",
       "77926                                     0.000000              0.000046   \n",
       "78312                                     0.071429             -0.024266   \n",
       "78646                                     0.310345             -0.002994   \n",
       "78661                                     0.384615             -0.001383   \n",
       "\n",
       "       pm_retracement  \n",
       "77403        0.052632  \n",
       "77425        0.196078  \n",
       "77583        0.123439  \n",
       "77612        0.115240  \n",
       "77640        0.419192  \n",
       "77656        0.258865  \n",
       "77732        0.000000  \n",
       "77828        0.139276  \n",
       "77926       -0.001100  \n",
       "78312        0.365385  \n",
       "78646        0.058511  \n",
       "78661        0.021053  "
      ]
     },
     "execution_count": 9,
     "metadata": {},
     "output_type": "execute_result"
    }
   ],
   "source": [
    "# Replace infinite updated data with nan\n",
    "df_X.replace([np.inf, -np.inf], np.nan, inplace=True)\n",
    "# Drop rows with NaN\n",
    "df_X.dropna(inplace=True)\n",
    "df_X = df_X[np.isfinite(df_X).all(1)]\n",
    "df_X.tail(12)"
   ]
  },
  {
   "cell_type": "code",
   "execution_count": 10,
   "id": "0fd642a8",
   "metadata": {},
   "outputs": [],
   "source": [
    "scale = StandardScaler()\n",
    "X_train = scale.fit_transform(X_train)\n",
    "X_test = scale.transform(X_test)"
   ]
  },
  {
   "cell_type": "markdown",
   "id": "38eca338",
   "metadata": {},
   "source": [
    "Define the hyperparameter grid to search over"
   ]
  },
  {
   "cell_type": "code",
   "execution_count": 11,
   "id": "d1f38a96",
   "metadata": {},
   "outputs": [],
   "source": [
    "n_estimators = [int(x) for x in np.linspace(start = 100, stop = 1000, num = 10)]\n",
    "max_features = ['auto', 'sqrt']\n",
    "max_depth = [int(x) for x in np.linspace(10, 110, num = 11)]\n",
    "max_depth.append(None)\n",
    "min_samples_split = [2, 5, 10]\n",
    "min_samples_leaf = [1, 2, 4]\n",
    "bootstrap = [True, False]\n",
    "random_grid = {'n_estimators': n_estimators,\n",
    "               'max_features': max_features,\n",
    "               'max_depth': max_depth,\n",
    "               'min_samples_split': min_samples_split,\n",
    "               'min_samples_leaf': min_samples_leaf,\n",
    "               'bootstrap': bootstrap}"
   ]
  },
  {
   "cell_type": "code",
   "execution_count": 12,
   "id": "a19aec56",
   "metadata": {},
   "outputs": [],
   "source": [
    "# Define the model to use\n",
    "rf = RandomForestClassifier()"
   ]
  },
  {
   "cell_type": "code",
   "execution_count": 13,
   "id": "fbfd95a5",
   "metadata": {},
   "outputs": [
    {
     "name": "stdout",
     "output_type": "stream",
     "text": [
      "Fitting 3 folds for each of 100 candidates, totalling 300 fits\n"
     ]
    },
    {
     "data": {
      "text/html": [
       "<style>#sk-container-id-1 {color: black;background-color: white;}#sk-container-id-1 pre{padding: 0;}#sk-container-id-1 div.sk-toggleable {background-color: white;}#sk-container-id-1 label.sk-toggleable__label {cursor: pointer;display: block;width: 100%;margin-bottom: 0;padding: 0.3em;box-sizing: border-box;text-align: center;}#sk-container-id-1 label.sk-toggleable__label-arrow:before {content: \"▸\";float: left;margin-right: 0.25em;color: #696969;}#sk-container-id-1 label.sk-toggleable__label-arrow:hover:before {color: black;}#sk-container-id-1 div.sk-estimator:hover label.sk-toggleable__label-arrow:before {color: black;}#sk-container-id-1 div.sk-toggleable__content {max-height: 0;max-width: 0;overflow: hidden;text-align: left;background-color: #f0f8ff;}#sk-container-id-1 div.sk-toggleable__content pre {margin: 0.2em;color: black;border-radius: 0.25em;background-color: #f0f8ff;}#sk-container-id-1 input.sk-toggleable__control:checked~div.sk-toggleable__content {max-height: 200px;max-width: 100%;overflow: auto;}#sk-container-id-1 input.sk-toggleable__control:checked~label.sk-toggleable__label-arrow:before {content: \"▾\";}#sk-container-id-1 div.sk-estimator input.sk-toggleable__control:checked~label.sk-toggleable__label {background-color: #d4ebff;}#sk-container-id-1 div.sk-label input.sk-toggleable__control:checked~label.sk-toggleable__label {background-color: #d4ebff;}#sk-container-id-1 input.sk-hidden--visually {border: 0;clip: rect(1px 1px 1px 1px);clip: rect(1px, 1px, 1px, 1px);height: 1px;margin: -1px;overflow: hidden;padding: 0;position: absolute;width: 1px;}#sk-container-id-1 div.sk-estimator {font-family: monospace;background-color: #f0f8ff;border: 1px dotted black;border-radius: 0.25em;box-sizing: border-box;margin-bottom: 0.5em;}#sk-container-id-1 div.sk-estimator:hover {background-color: #d4ebff;}#sk-container-id-1 div.sk-parallel-item::after {content: \"\";width: 100%;border-bottom: 1px solid gray;flex-grow: 1;}#sk-container-id-1 div.sk-label:hover label.sk-toggleable__label {background-color: #d4ebff;}#sk-container-id-1 div.sk-serial::before {content: \"\";position: absolute;border-left: 1px solid gray;box-sizing: border-box;top: 0;bottom: 0;left: 50%;z-index: 0;}#sk-container-id-1 div.sk-serial {display: flex;flex-direction: column;align-items: center;background-color: white;padding-right: 0.2em;padding-left: 0.2em;position: relative;}#sk-container-id-1 div.sk-item {position: relative;z-index: 1;}#sk-container-id-1 div.sk-parallel {display: flex;align-items: stretch;justify-content: center;background-color: white;position: relative;}#sk-container-id-1 div.sk-item::before, #sk-container-id-1 div.sk-parallel-item::before {content: \"\";position: absolute;border-left: 1px solid gray;box-sizing: border-box;top: 0;bottom: 0;left: 50%;z-index: -1;}#sk-container-id-1 div.sk-parallel-item {display: flex;flex-direction: column;z-index: 1;position: relative;background-color: white;}#sk-container-id-1 div.sk-parallel-item:first-child::after {align-self: flex-end;width: 50%;}#sk-container-id-1 div.sk-parallel-item:last-child::after {align-self: flex-start;width: 50%;}#sk-container-id-1 div.sk-parallel-item:only-child::after {width: 0;}#sk-container-id-1 div.sk-dashed-wrapped {border: 1px dashed gray;margin: 0 0.4em 0.5em 0.4em;box-sizing: border-box;padding-bottom: 0.4em;background-color: white;}#sk-container-id-1 div.sk-label label {font-family: monospace;font-weight: bold;display: inline-block;line-height: 1.2em;}#sk-container-id-1 div.sk-label-container {text-align: center;}#sk-container-id-1 div.sk-container {/* jupyter's `normalize.less` sets `[hidden] { display: none; }` but bootstrap.min.css set `[hidden] { display: none !important; }` so we also need the `!important` here to be able to override the default hidden behavior on the sphinx rendered scikit-learn.org. See: https://github.com/scikit-learn/scikit-learn/issues/21755 */display: inline-block !important;position: relative;}#sk-container-id-1 div.sk-text-repr-fallback {display: none;}</style><div id=\"sk-container-id-1\" class=\"sk-top-container\"><div class=\"sk-text-repr-fallback\"><pre>RandomizedSearchCV(cv=3, estimator=RandomForestClassifier(), n_iter=100,\n",
       "                   n_jobs=-1,\n",
       "                   param_distributions={&#x27;bootstrap&#x27;: [True, False],\n",
       "                                        &#x27;max_depth&#x27;: [10, 20, 30, 40, 50, 60,\n",
       "                                                      70, 80, 90, 100, 110,\n",
       "                                                      None],\n",
       "                                        &#x27;max_features&#x27;: [&#x27;auto&#x27;, &#x27;sqrt&#x27;],\n",
       "                                        &#x27;min_samples_leaf&#x27;: [1, 2, 4],\n",
       "                                        &#x27;min_samples_split&#x27;: [2, 5, 10],\n",
       "                                        &#x27;n_estimators&#x27;: [100, 200, 300, 400,\n",
       "                                                         500, 600, 700, 800,\n",
       "                                                         900, 1000]},\n",
       "                   random_state=42, verbose=2)</pre><b>In a Jupyter environment, please rerun this cell to show the HTML representation or trust the notebook. <br />On GitHub, the HTML representation is unable to render, please try loading this page with nbviewer.org.</b></div><div class=\"sk-container\" hidden><div class=\"sk-item sk-dashed-wrapped\"><div class=\"sk-label-container\"><div class=\"sk-label sk-toggleable\"><input class=\"sk-toggleable__control sk-hidden--visually\" id=\"sk-estimator-id-1\" type=\"checkbox\" ><label for=\"sk-estimator-id-1\" class=\"sk-toggleable__label sk-toggleable__label-arrow\">RandomizedSearchCV</label><div class=\"sk-toggleable__content\"><pre>RandomizedSearchCV(cv=3, estimator=RandomForestClassifier(), n_iter=100,\n",
       "                   n_jobs=-1,\n",
       "                   param_distributions={&#x27;bootstrap&#x27;: [True, False],\n",
       "                                        &#x27;max_depth&#x27;: [10, 20, 30, 40, 50, 60,\n",
       "                                                      70, 80, 90, 100, 110,\n",
       "                                                      None],\n",
       "                                        &#x27;max_features&#x27;: [&#x27;auto&#x27;, &#x27;sqrt&#x27;],\n",
       "                                        &#x27;min_samples_leaf&#x27;: [1, 2, 4],\n",
       "                                        &#x27;min_samples_split&#x27;: [2, 5, 10],\n",
       "                                        &#x27;n_estimators&#x27;: [100, 200, 300, 400,\n",
       "                                                         500, 600, 700, 800,\n",
       "                                                         900, 1000]},\n",
       "                   random_state=42, verbose=2)</pre></div></div></div><div class=\"sk-parallel\"><div class=\"sk-parallel-item\"><div class=\"sk-item\"><div class=\"sk-label-container\"><div class=\"sk-label sk-toggleable\"><input class=\"sk-toggleable__control sk-hidden--visually\" id=\"sk-estimator-id-2\" type=\"checkbox\" ><label for=\"sk-estimator-id-2\" class=\"sk-toggleable__label sk-toggleable__label-arrow\">estimator: RandomForestClassifier</label><div class=\"sk-toggleable__content\"><pre>RandomForestClassifier()</pre></div></div></div><div class=\"sk-serial\"><div class=\"sk-item\"><div class=\"sk-estimator sk-toggleable\"><input class=\"sk-toggleable__control sk-hidden--visually\" id=\"sk-estimator-id-3\" type=\"checkbox\" ><label for=\"sk-estimator-id-3\" class=\"sk-toggleable__label sk-toggleable__label-arrow\">RandomForestClassifier</label><div class=\"sk-toggleable__content\"><pre>RandomForestClassifier()</pre></div></div></div></div></div></div></div></div></div></div>"
      ],
      "text/plain": [
       "RandomizedSearchCV(cv=3, estimator=RandomForestClassifier(), n_iter=100,\n",
       "                   n_jobs=-1,\n",
       "                   param_distributions={'bootstrap': [True, False],\n",
       "                                        'max_depth': [10, 20, 30, 40, 50, 60,\n",
       "                                                      70, 80, 90, 100, 110,\n",
       "                                                      None],\n",
       "                                        'max_features': ['auto', 'sqrt'],\n",
       "                                        'min_samples_leaf': [1, 2, 4],\n",
       "                                        'min_samples_split': [2, 5, 10],\n",
       "                                        'n_estimators': [100, 200, 300, 400,\n",
       "                                                         500, 600, 700, 800,\n",
       "                                                         900, 1000]},\n",
       "                   random_state=42, verbose=2)"
      ]
     },
     "execution_count": 13,
     "metadata": {},
     "output_type": "execute_result"
    }
   ],
   "source": [
    "# Run the randomized search over the hyperparameter grid\n",
    "rf_random = RandomizedSearchCV(estimator = rf, param_distributions = random_grid,\n",
    "                               n_iter = 100, cv = 3, verbose=2, random_state=42, n_jobs = -1)\n",
    "rf_random.fit(X_train, y_train)"
   ]
  },
  {
   "cell_type": "code",
   "execution_count": 14,
   "id": "9b2d6990",
   "metadata": {},
   "outputs": [
    {
     "name": "stdout",
     "output_type": "stream",
     "text": [
      "{'n_estimators': 400, 'min_samples_split': 10, 'min_samples_leaf': 4, 'max_features': 'sqrt', 'max_depth': 50, 'bootstrap': True}\n"
     ]
    }
   ],
   "source": [
    "# Print the best hyperparameters found by the search\n",
    "print(rf_random.best_params_)"
   ]
  },
  {
   "cell_type": "raw",
   "id": "71272076",
   "metadata": {},
   "source": [
    "# Evaluate the model using the best hyperparameters on the test set\n",
    "best_model = rf_random.best_estimator_\n",
    "y_pred = best_model.predict(X_test)\n",
    "mse = mean_squared_error(y_test, y_pred)\n",
    "print('Mean squared error: ', mse)"
   ]
  },
  {
   "cell_type": "code",
   "execution_count": 16,
   "id": "8d574367",
   "metadata": {},
   "outputs": [
    {
     "data": {
      "text/plain": [
       "array(['False', 'False', 'False', 'False', 'False', 'False', 'False',\n",
       "       'False', 'False', 'False', 'True', 'False', 'False', 'True',\n",
       "       'False', 'False', 'False', 'False', 'False', 'False', 'False',\n",
       "       'False', 'False', 'False', 'False', 'False', 'True', 'False',\n",
       "       'False', 'False', 'False', 'False', 'False', 'False', 'False',\n",
       "       'False', 'False', 'False', 'False', 'False', 'False', 'False',\n",
       "       'False', 'False', 'False', 'False', 'False', 'False', 'False',\n",
       "       'False', 'False', 'False', 'False', 'False', 'True', 'False',\n",
       "       'False', 'False', 'False', 'False', 'False', 'False', 'False',\n",
       "       'False', 'False', 'False', 'False', 'False', 'False', 'False',\n",
       "       'False', 'False', 'False', 'False', 'False', 'False', 'False',\n",
       "       'False', 'False', 'False', 'False', 'False', 'False', 'False',\n",
       "       'False', 'False', 'False', 'False', 'False', 'False', 'False',\n",
       "       'False', 'False', 'False', 'False', 'True', 'False', 'False',\n",
       "       'False', 'False', 'False', 'False', 'False', 'False', 'False',\n",
       "       'False', 'False', 'False', 'True', 'False', 'False', 'False',\n",
       "       'False', 'False', 'False', 'False', 'False', 'False', 'False',\n",
       "       'False', 'False', 'False', 'False', 'True', 'False', 'False',\n",
       "       'False', 'False', 'False', 'False', 'False', 'False', 'False',\n",
       "       'False', 'False', 'False', 'False', 'False', 'False', 'False',\n",
       "       'False', 'False', 'False', 'False', 'False', 'False', 'False',\n",
       "       'False', 'False', 'True', 'False', 'False', 'False', 'False',\n",
       "       'False', 'False', 'False', 'False', 'False', 'False', 'False',\n",
       "       'False', 'False', 'False', 'False', 'False', 'False', 'False',\n",
       "       'False', 'False', 'False', 'False', 'False', 'False', 'True',\n",
       "       'False', 'False', 'False', 'False', 'False', 'False', 'False',\n",
       "       'False', 'False', 'False', 'False', 'False', 'False', 'False',\n",
       "       'True', 'False', 'False', 'False', 'False', 'False', 'False'],\n",
       "      dtype=object)"
      ]
     },
     "execution_count": 16,
     "metadata": {},
     "output_type": "execute_result"
    }
   ],
   "source": [
    "y_pred"
   ]
  },
  {
   "cell_type": "code",
   "execution_count": 17,
   "id": "975f4e59",
   "metadata": {},
   "outputs": [
    {
     "name": "stdout",
     "output_type": "stream",
     "text": [
      "accuracy_score:  0.7142857142857143\n"
     ]
    }
   ],
   "source": [
    "from sklearn.metrics import accuracy_score\n",
    "a_s = accuracy_score(y_test, y_pred)\n",
    "print('accuracy_score: ', a_s)"
   ]
  },
  {
   "cell_type": "code",
   "execution_count": 18,
   "id": "37aff40a",
   "metadata": {},
   "outputs": [],
   "source": [
    "# Extract the feature importances\n",
    "importances = best_model.feature_importances_"
   ]
  },
  {
   "cell_type": "code",
   "execution_count": 19,
   "id": "d844e268",
   "metadata": {},
   "outputs": [
    {
     "data": {
      "image/png": "[encoded data removed]",
      "text/plain": [
       "<Figure size 640x480 with 1 Axes>"
      ]
     },
     "metadata": {},
     "output_type": "display_data"
    }
   ],
   "source": [
    "import matplotlib.pyplot as plt\n",
    "\n",
    "# Plot the feature importances as a bar chart\n",
    "plt.bar(df_X.columns, importances)\n",
    "plt.xticks(rotation=45)\n",
    "plt.xlabel('Features')\n",
    "plt.ylabel('Importance')\n",
    "plt.show()"
   ]
  },
  {
   "cell_type": "code",
   "execution_count": 20,
   "id": "bb447080",
   "metadata": {},
   "outputs": [
    {
     "data": {
      "text/plain": [
       "{'bootstrap': True,\n",
       " 'ccp_alpha': 0.0,\n",
       " 'class_weight': None,\n",
       " 'criterion': 'gini',\n",
       " 'max_depth': 50,\n",
       " 'max_features': 'sqrt',\n",
       " 'max_leaf_nodes': None,\n",
       " 'max_samples': None,\n",
       " 'min_impurity_decrease': 0.0,\n",
       " 'min_samples_leaf': 4,\n",
       " 'min_samples_split': 10,\n",
       " 'min_weight_fraction_leaf': 0.0,\n",
       " 'n_estimators': 400,\n",
       " 'n_jobs': None,\n",
       " 'oob_score': False,\n",
       " 'random_state': None,\n",
       " 'verbose': 0,\n",
       " 'warm_start': False}"
      ]
     },
     "execution_count": 20,
     "metadata": {},
     "output_type": "execute_result"
    }
   ],
   "source": [
    "best_model.get_params()"
   ]
  },
  {
   "cell_type": "code",
   "execution_count": null,
   "id": "92ffaadf",
   "metadata": {},
   "outputs": [],
   "source": [
    "df_X.to_csv('gap_above_4.csv')"
   ]
  },
  {
   "cell_type": "code",
   "execution_count": null,
   "id": "5cade459",
   "metadata": {},
   "outputs": [],
   "source": [
    "d = {'y_test': y_test, 'y_pred': y_pred}\n",
    "df = pd.DataFrame(data=d)\n",
    "df.to_csv('pred.csv')"
   ]
  }
 ],
 "metadata": {
  "kernelspec": {
   "display_name": "Python [conda env:py38] *",
   "language": "python",
   "name": "conda-env-py38-py"
  },
  "language_info": {
   "codemirror_mode": {
    "name": "ipython",
    "version": 3
   },
   "file_extension": ".py",
   "mimetype": "text/x-python",
   "name": "python",
   "nbconvert_exporter": "python",
   "pygments_lexer": "ipython3",
   "version": "3.8.13"
  }
 },
 "nbformat": 4,
 "nbformat_minor": 5
}
