{
 "cells": [
  {
   "cell_type": "markdown",
   "id": "c49e3a15",
   "metadata": {},
   "source": [
    "# Pour sauvegarder uniquement certains tickers"
   ]
  },
  {
   "cell_type": "code",
   "execution_count": 1,
   "id": "4cf9a52b",
   "metadata": {},
   "outputs": [
    {
     "name": "stderr",
     "output_type": "stream",
     "text": [
      "C:\\Users\\33670\\AppData\\Local\\Temp\\ipykernel_7236\\1700072637.py:4: DtypeWarning: Columns (44,45,46,47,48,49,50,51,52,53,84,86,88,91,92,98) have mixed types. Specify dtype option on import or set low_memory=False.\n",
      "  df = pd.read_csv(r'C:\\Users\\33670\\Desktop\\framework\\data_collection\\historical_data\\old/top100_clean_aug.csv')\n"
     ]
    }
   ],
   "source": [
    "import pandas as pd\n",
    "\n",
    "# Charger les données\n",
    "df = pd.read_csv(r'C:\\Users\\33670\\Desktop\\framework\\data_collection\\historical_data\\old/top100_clean_aug.csv')\n",
    "df['date'] = pd.to_datetime(df['date'])\n",
    "\n",
    "filtered_df = df[df['ticker'].isin(['TSLA','AAPL','GOOGL','NVDA','MSFT','META','AMZN'])]"
   ]
  },
  {
   "cell_type": "code",
   "execution_count": 2,
   "id": "b588d0ae",
   "metadata": {},
   "outputs": [],
   "source": [
    "filtered_df.to_csv(r'C:\\Users\\33670\\Desktop\\framework\\data_collection\\historical_data\\old/17092023.csv', index=False)"
   ]
  },
  {
   "cell_type": "markdown",
   "id": "dc0854d0",
   "metadata": {},
   "source": [
    "# Pour sauvegarder à partir d'une certaine date"
   ]
  },
  {
   "cell_type": "code",
   "execution_count": 1,
   "id": "b8b1f344",
   "metadata": {},
   "outputs": [
    {
     "name": "stderr",
     "output_type": "stream",
     "text": [
      "C:\\Users\\33670\\AppData\\Local\\Temp\\ipykernel_10376\\2391548959.py:4: DtypeWarning: Columns (46,47,48,49,50,51,52,53,54,55,86,88,90,93,94,100,102) have mixed types. Specify dtype option on import or set low_memory=False.\n",
      "  df = pd.read_csv(r'C:\\Users\\33670\\Desktop\\framework\\data_collection\\historical_data/20231127.csv')\n"
     ]
    }
   ],
   "source": [
    "import pandas as pd\n",
    "\n",
    "# Charger les données\n",
    "df = pd.read_csv(r'C:\\Users\\33670\\Desktop\\framework\\data_collection\\historical_data/top100_clean.csv')\n",
    "df['date'] = pd.to_datetime(df['date'])\n",
    "filtered_df = df[df['date'] <= '2023-08-01']\n",
    "filtered_df.to_csv(r'C:\\Users\\33670\\Desktop\\framework\\data_collection\\historical_data/top100_clean.csv', index=False)"
   ]
  },
  {
   "cell_type": "markdown",
   "id": "af3a9015",
   "metadata": {},
   "source": [
    "# Pour supprimer certaines colonnes"
   ]
  },
  {
   "cell_type": "code",
   "execution_count": 13,
   "id": "47dd91fc",
   "metadata": {},
   "outputs": [],
   "source": [
    "import pandas as pd\n",
    "\n",
    "# Charger les données\n",
    "df = pd.read_csv(r'C:\\Users\\33670\\Desktop\\framework\\data_collection\\historical_data/top23_rolling_percentiles_short_strat.csv')\n",
    "df['date'] = pd.to_datetime(df['date'])\n",
    "\n",
    "df.drop(columns=['open','high','close','low','freeFloat','floatShares','market_cap','outstandingShares','volume','dollar_volume','average_volume','average_volume_previous_day','relative_volume','pm_float_rotation','float_rotation','average_dollar_volume_previous_day','gap','pm_volume','sigma','sigma_percent','max_up','max_down','first_hour_to_close_move','first_hour_to_close_max_up','first_hour_to_close_max_down','first_hour_to_close_volume','first_hour_to_close_relative_volume','first_15min_move','first_15min_max_up','first_15min_max_down','first_15min_volume','first_15_min_relative_volume','open_to_power_hour_move','open_to_power_hour_max_up','open_to_power_hour_max_down','open_to_power_hour_volume','open_to_power_hour_relative_volume','duration_before_breakout_of_pm_high','move_from_breakout_of_pm_high','duration_below_open','duration_below_9ema','duration_below_9ema_first_hour','duration_below_20ema','duration_below_20ema_first_hour','duration_below_vwap','duration_below_vwap_first_hour'])\n",
    "df.to_csv(r'C:\\Users\\33670\\Desktop\\framework\\data_collection\\historical_data/top100_rolling_percentiles_short_strat(light).csv', index=False)"
   ]
  },
  {
   "cell_type": "markdown",
   "id": "73d399df",
   "metadata": {},
   "source": [
    "# Pour garder uniquement certaines colonnes"
   ]
  },
  {
   "cell_type": "code",
   "execution_count": 2,
   "id": "fad082b1",
   "metadata": {},
   "outputs": [
    {
     "name": "stderr",
     "output_type": "stream",
     "text": [
      "C:\\Users\\33670\\AppData\\Local\\Temp\\ipykernel_29140\\3326413304.py:4: DtypeWarning: Columns (98) have mixed types. Specify dtype option on import or set low_memory=False.\n",
      "  df = pd.read_csv(r'C:\\Users\\33670\\Desktop\\framework\\data_collection\\historical_data/top100_rolling_percentiles_short_strat.csv')\n"
     ]
    }
   ],
   "source": [
    "import pandas as pd\n",
    "\n",
    "# Charger les données\n",
    "df = pd.read_csv(r'C:\\Users\\33670\\Desktop\\framework\\data_collection\\historical_data/top100_rolling_percentiles_short_strat.csv')\n",
    "df['date'] = pd.to_datetime(df['date'])\n",
    "\n",
    "df = df[['date','ticker', 'open','close','high','week_day','first_hour_move','open_to_close_move','power_hour_move','open_to_close_max_up','average_dollar_volume_previous_day_percentile','pm_dollar_volume','gap_percentile','1month_change_from_high','sigma_percent_percentile', 'open_from_BB_down_percentile', '1month_change_from_high_percentile', 'gap_percentile', 'x_day_high_at_open_percentile', 'x_day_low_at_open_percentile']]\n",
    "df.to_csv(r'C:\\Users\\33670\\Desktop\\framework\\data_collection\\historical_data/top100_rolling_percentiles_short_strat(light).csv', index=False)"
   ]
  },
  {
   "cell_type": "code",
   "execution_count": null,
   "id": "cb628942",
   "metadata": {},
   "outputs": [],
   "source": []
  }
 ],
 "metadata": {
  "kernelspec": {
   "display_name": "Python [conda env:py38] *",
   "language": "python",
   "name": "conda-env-py38-py"
  },
  "language_info": {
   "codemirror_mode": {
    "name": "ipython",
    "version": 3
   },
   "file_extension": ".py",
   "mimetype": "text/x-python",
   "name": "python",
   "nbconvert_exporter": "python",
   "pygments_lexer": "ipython3",
   "version": "3.8.13"
  }
 },
 "nbformat": 4,
 "nbformat_minor": 5
}
