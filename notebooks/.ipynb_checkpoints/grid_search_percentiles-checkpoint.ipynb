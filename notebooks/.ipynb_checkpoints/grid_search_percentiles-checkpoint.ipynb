{
 "cells": [
  {
   "cell_type": "raw",
   "id": "0b11a66a",
   "metadata": {},
   "source": [
    "Ce notebook fait un grid search par groupe de trois paramètres selon 3 filtres sur les percentiles (<0.3, 0.3<x<0.7, >0.7)"
   ]
  },
  {
   "cell_type": "code",
   "execution_count": 1,
   "id": "a31dfdf0",
   "metadata": {},
   "outputs": [],
   "source": [
    "import pandas as pd"
   ]
  },
  {
   "cell_type": "code",
   "execution_count": 2,
   "id": "a6f05491",
   "metadata": {},
   "outputs": [],
   "source": [
    "df = pd.read_csv(r'C:\\Users\\33670\\Desktop\\framework\\data_collection\\historical_data\\top6_rolling_percentile.csv')\n",
    "\n",
    "df = df[['first_hour_move','open_to_close_move','power_hour_move','gap_percentile', 'consecutive_days_above_20sma_percentile', 'open_from_BB_up_percentile', 'pm_dollar_volume_percentile','x_day_high_at_open_percentile','1month_change_from_high_percentile','red_days_percentile','green_days_percentile','lower_move_before_breakout_of_pm_high_percentile']]\n"
   ]
  },
  {
   "cell_type": "markdown",
   "id": "b0a9c2b7",
   "metadata": {},
   "source": [
    "def drop_rows_with_non_numeric(df):\n",
    "    mask = df.applymap(lambda x: isinstance(x, (int, float)) and not isinstance(x, bool))\n",
    "    return df[mask.all(axis=1)]\n",
    "\n",
    "df_cleaned = drop_rows_with_non_numeric(df)\n",
    "print(df_cleaned)"
   ]
  },
  {
   "cell_type": "markdown",
   "id": "7267c7cf",
   "metadata": {},
   "source": [
    "with pd.option_context('display.max_rows', None, 'display.max_columns', None):  # permet d'afficher toutes les lignes & colonnes more options can be specified also\n",
    "    print(df)"
   ]
  },
  {
   "cell_type": "code",
   "execution_count": 3,
   "id": "5cfa260f",
   "metadata": {},
   "outputs": [],
   "source": [
    "df = df.drop(columns=['lower_move_before_breakout_of_pm_high_percentile'])\n",
    "#df.to_csv('main_tickers_percentiles.csv', index=True)"
   ]
  },
  {
   "cell_type": "code",
   "execution_count": 4,
   "id": "ad2603e6",
   "metadata": {},
   "outputs": [
    {
     "name": "stdout",
     "output_type": "stream",
     "text": [
      "(1990, 11)\n"
     ]
    }
   ],
   "source": [
    "print(df.shape)"
   ]
  },
  {
   "cell_type": "code",
   "execution_count": 5,
   "id": "a95925ee",
   "metadata": {},
   "outputs": [],
   "source": [
    "from itertools import combinations\n",
    "\n",
    "\n",
    "# Prétraitement des données\n",
    "columns_to_convert = [\n",
    "    'first_hour_move', 'open_to_close_move', 'power_hour_move', 'gap_percentile',\n",
    "    'consecutive_days_above_20sma_percentile', 'open_from_BB_up_percentile',\n",
    "    'pm_dollar_volume_percentile', 'x_day_high_at_open_percentile',\n",
    "    '1month_change_from_high_percentile', 'red_days_percentile', 'green_days_percentile'\n",
    "]\n",
    "\n",
    "for col in columns_to_convert:\n",
    "    df[col] = df[col].replace(['na', '#VALUE!','','²'], float('nan')).astype(str).str.replace(',', '.').astype(float)"
   ]
  },
  {
   "cell_type": "code",
   "execution_count": 6,
   "id": "7583e170",
   "metadata": {},
   "outputs": [],
   "source": [
    "# Définir les combinaisons de paramètres et les conditions de filtrage\n",
    "parameters = [\n",
    "    'gap_percentile', 'consecutive_days_above_20sma_percentile', \n",
    "    'open_from_BB_up_percentile', 'pm_dollar_volume_percentile', \n",
    "    'x_day_high_at_open_percentile', '1month_change_from_high_percentile', \n",
    "    'red_days_percentile', 'green_days_percentile'\n",
    "]\n",
    "\n",
    "combinations_of_three = list(combinations(parameters, 3))"
   ]
  },
  {
   "cell_type": "code",
   "execution_count": 7,
   "id": "60ea14d5",
   "metadata": {},
   "outputs": [],
   "source": [
    "def all_filter_conditions_with_labels(param):\n",
    "    conditions = [\n",
    "        (df[param] < 0.3),\n",
    "        (df[param] > 0.7),\n",
    "        (df[param] >= 0.3) & (df[param] <= 0.7)\n",
    "    ]\n",
    "    labels = [\n",
    "        \"< 0.3\",\n",
    "        \"> 0.7\",\n",
    "        \"0.3 - 0.7\"\n",
    "    ]\n",
    "    return list(zip(conditions, labels))"
   ]
  },
  {
   "cell_type": "code",
   "execution_count": 8,
   "id": "d92abd9f",
   "metadata": {},
   "outputs": [],
   "source": [
    "# Grid search avec tous les filtres possibles\n",
    "results_with_all_filters = []\n",
    "\n",
    "for combo in combinations_of_three:\n",
    "    for condition_A, label_A in all_filter_conditions_with_labels(combo[0]):\n",
    "        for condition_B, label_B in all_filter_conditions_with_labels(combo[1]):\n",
    "            for condition_C, label_C in all_filter_conditions_with_labels(combo[2]):\n",
    "                combined_condition = condition_A & condition_B & condition_C\n",
    "                combined_label = f\"{combo[0]}: {label_A}, {combo[1]}: {label_B}, {combo[2]}: {label_C}\"\n",
    "                \n",
    "                filtered_df = df[combined_condition]\n",
    "                \n",
    "                if len(filtered_df) >= 50:\n",
    "                    results_with_all_filters.append({\n",
    "                        'Parameters': combo,\n",
    "                        'Filter': combined_label,\n",
    "                        'Sum_first_hour_move': filtered_df['first_hour_move'].sum(),\n",
    "                        'Sum_open_to_close_move': filtered_df['open_to_close_move'].sum(),\n",
    "                        'Sum_power_hour_move': filtered_df['power_hour_move'].sum(),\n",
    "                        'Number of Rows': len(filtered_df)\n",
    "                    })\n",
    "\n",
    "results_with_all_filters_df = pd.DataFrame(results_with_all_filters)\n",
    "sorted_results_with_all_filters_df = results_with_all_filters_df.sort_values(by=\"Sum_open_to_close_move\", ascending=False)\n",
    "\n",
    "# Sauvegarder les résultats dans un fichier CSV\n",
    "sorted_results_with_all_filters_df.to_csv('./data/top6_resultats_grid_search_rolling_percentiles.csv', index=False)"
   ]
  },
  {
   "cell_type": "code",
   "execution_count": null,
   "id": "810593ba",
   "metadata": {},
   "outputs": [],
   "source": []
  }
 ],
 "metadata": {
  "kernelspec": {
   "display_name": "Python [conda env:py38] *",
   "language": "python",
   "name": "conda-env-py38-py"
  },
  "language_info": {
   "codemirror_mode": {
    "name": "ipython",
    "version": 3
   },
   "file_extension": ".py",
   "mimetype": "text/x-python",
   "name": "python",
   "nbconvert_exporter": "python",
   "pygments_lexer": "ipython3",
   "version": "3.8.13"
  }
 },
 "nbformat": 4,
 "nbformat_minor": 5
}
