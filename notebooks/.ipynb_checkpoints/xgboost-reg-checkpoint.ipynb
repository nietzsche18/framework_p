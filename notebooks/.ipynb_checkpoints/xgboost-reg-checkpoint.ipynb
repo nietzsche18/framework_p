{
 "cells": [
  {
   "cell_type": "code",
   "execution_count": 1,
   "id": "f937461d",
   "metadata": {},
   "outputs": [
    {
     "data": {
      "text/plain": [
       "(2696, 101)"
      ]
     },
     "execution_count": 1,
     "metadata": {},
     "output_type": "execute_result"
    }
   ],
   "source": [
    "import xgboost as xgb\n",
    "import pandas as pd\n",
    "from sklearn.metrics import accuracy_score, mean_squared_error\n",
    "from sklearn.preprocessing import LabelEncoder\n",
    "from sklearn.model_selection import train_test_split\n",
    "\n",
    "import numpy as np\n",
    "\n",
    "# load data into pandas DataFrame\n",
    "data = pd.read_csv(r'C:\\Users\\33670\\Desktop\\framework\\data_collection\\historical_data\\main_tickers_10082023.csv')\n",
    "#data = data.drop('open', axis=1)\n",
    "data = data[data['market_cap'] > 1000000000]\n",
    "data.shape"
   ]
  },
  {
   "cell_type": "code",
   "execution_count": 3,
   "id": "52682933",
   "metadata": {},
   "outputs": [
    {
     "name": "stdout",
     "output_type": "stream",
     "text": [
      "ticker                    category\n",
      "date                        object\n",
      "week_day                  category\n",
      "open                       float64\n",
      "high                       float64\n",
      "                            ...   \n",
      "break_200sma                  bool\n",
      "test_of_pm_high             object\n",
      "days_til_next_earnings       int64\n",
      "eps_diff_percent           float64\n",
      "revenue_diff_percent       float64\n",
      "Length: 101, dtype: object\n"
     ]
    }
   ],
   "source": [
    "data['ticker'] = data[\"ticker\"].astype(\"category\")\n",
    "data['week_day'] = data[\"week_day\"].astype(\"category\")\n",
    "print(data.dtypes)"
   ]
  },
  {
   "cell_type": "code",
   "execution_count": 4,
   "id": "e5636ae5",
   "metadata": {},
   "outputs": [
    {
     "data": {
      "text/html": [
       "<div>\n",
       "<style scoped>\n",
       "    .dataframe tbody tr th:only-of-type {\n",
       "        vertical-align: middle;\n",
       "    }\n",
       "\n",
       "    .dataframe tbody tr th {\n",
       "        vertical-align: top;\n",
       "    }\n",
       "\n",
       "    .dataframe thead th {\n",
       "        text-align: right;\n",
       "    }\n",
       "</style>\n",
       "<table border=\"1\" class=\"dataframe\">\n",
       "  <thead>\n",
       "    <tr style=\"text-align: right;\">\n",
       "      <th></th>\n",
       "      <th>open</th>\n",
       "      <th>high</th>\n",
       "      <th>close</th>\n",
       "      <th>low</th>\n",
       "      <th>freeFloat</th>\n",
       "      <th>floatShares</th>\n",
       "      <th>market_cap</th>\n",
       "      <th>outstandingShares</th>\n",
       "      <th>volume</th>\n",
       "      <th>dollar_volume</th>\n",
       "      <th>...</th>\n",
       "      <th>duration_below_20ema_first_hour</th>\n",
       "      <th>duration_below_vwap_first_hour</th>\n",
       "      <th>number_of_red_candles_one_hour_before_open</th>\n",
       "      <th>percent_of_red_candles_one_hour_before_open</th>\n",
       "      <th>number_of_red_candles_one_hour_after_open</th>\n",
       "      <th>percent_of_red_candles_one_hour_after_open</th>\n",
       "      <th>from_pm_high_to_open</th>\n",
       "      <th>days_til_next_earnings</th>\n",
       "      <th>eps_diff_percent</th>\n",
       "      <th>revenue_diff_percent</th>\n",
       "    </tr>\n",
       "  </thead>\n",
       "  <tbody>\n",
       "    <tr>\n",
       "      <th>count</th>\n",
       "      <td>2696.000000</td>\n",
       "      <td>2696.000000</td>\n",
       "      <td>2696.000000</td>\n",
       "      <td>2696.000000</td>\n",
       "      <td>2696.000000</td>\n",
       "      <td>2.696000e+03</td>\n",
       "      <td>2.696000e+03</td>\n",
       "      <td>2.696000e+03</td>\n",
       "      <td>2.696000e+03</td>\n",
       "      <td>2.696000e+03</td>\n",
       "      <td>...</td>\n",
       "      <td>2696.000000</td>\n",
       "      <td>2696.000000</td>\n",
       "      <td>2696.000000</td>\n",
       "      <td>2696.000000</td>\n",
       "      <td>2696.000000</td>\n",
       "      <td>2696.000000</td>\n",
       "      <td>2696.000000</td>\n",
       "      <td>2696.000000</td>\n",
       "      <td>31.000000</td>\n",
       "      <td>22.000000</td>\n",
       "    </tr>\n",
       "    <tr>\n",
       "      <th>mean</th>\n",
       "      <td>187.663278</td>\n",
       "      <td>190.896827</td>\n",
       "      <td>187.709178</td>\n",
       "      <td>184.454097</td>\n",
       "      <td>91.639180</td>\n",
       "      <td>7.344096e+09</td>\n",
       "      <td>1.312406e+12</td>\n",
       "      <td>7.936470e+09</td>\n",
       "      <td>5.922787e+07</td>\n",
       "      <td>1.090469e+10</td>\n",
       "      <td>...</td>\n",
       "      <td>30.281899</td>\n",
       "      <td>30.276335</td>\n",
       "      <td>22.689911</td>\n",
       "      <td>0.403466</td>\n",
       "      <td>6.053412</td>\n",
       "      <td>0.504451</td>\n",
       "      <td>-0.009558</td>\n",
       "      <td>31.870178</td>\n",
       "      <td>0.026153</td>\n",
       "      <td>0.019461</td>\n",
       "    </tr>\n",
       "    <tr>\n",
       "      <th>std</th>\n",
       "      <td>78.203997</td>\n",
       "      <td>79.477010</td>\n",
       "      <td>78.072209</td>\n",
       "      <td>76.724253</td>\n",
       "      <td>6.166856</td>\n",
       "      <td>4.715046e+09</td>\n",
       "      <td>7.459178e+11</td>\n",
       "      <td>4.923478e+09</td>\n",
       "      <td>3.789136e+07</td>\n",
       "      <td>8.013614e+09</td>\n",
       "      <td>...</td>\n",
       "      <td>22.229497</td>\n",
       "      <td>20.279303</td>\n",
       "      <td>8.643609</td>\n",
       "      <td>0.102278</td>\n",
       "      <td>1.695821</td>\n",
       "      <td>0.141318</td>\n",
       "      <td>0.009290</td>\n",
       "      <td>20.092260</td>\n",
       "      <td>0.168498</td>\n",
       "      <td>0.047342</td>\n",
       "    </tr>\n",
       "    <tr>\n",
       "      <th>min</th>\n",
       "      <td>11.997900</td>\n",
       "      <td>12.310000</td>\n",
       "      <td>11.950000</td>\n",
       "      <td>11.730000</td>\n",
       "      <td>85.571174</td>\n",
       "      <td>2.196991e+09</td>\n",
       "      <td>3.074738e+10</td>\n",
       "      <td>2.470000e+09</td>\n",
       "      <td>1.300741e+06</td>\n",
       "      <td>1.554385e+07</td>\n",
       "      <td>...</td>\n",
       "      <td>0.000000</td>\n",
       "      <td>0.000000</td>\n",
       "      <td>0.000000</td>\n",
       "      <td>0.000000</td>\n",
       "      <td>0.000000</td>\n",
       "      <td>0.000000</td>\n",
       "      <td>-0.104924</td>\n",
       "      <td>0.000000</td>\n",
       "      <td>-0.595238</td>\n",
       "      <td>-0.051852</td>\n",
       "    </tr>\n",
       "    <tr>\n",
       "      <th>25%</th>\n",
       "      <td>126.923750</td>\n",
       "      <td>129.072450</td>\n",
       "      <td>126.712500</td>\n",
       "      <td>124.857500</td>\n",
       "      <td>85.589023</td>\n",
       "      <td>2.370830e+09</td>\n",
       "      <td>6.450220e+11</td>\n",
       "      <td>2.562730e+09</td>\n",
       "      <td>3.151665e+07</td>\n",
       "      <td>5.546487e+09</td>\n",
       "      <td>...</td>\n",
       "      <td>10.000000</td>\n",
       "      <td>10.000000</td>\n",
       "      <td>18.000000</td>\n",
       "      <td>0.354839</td>\n",
       "      <td>5.000000</td>\n",
       "      <td>0.416667</td>\n",
       "      <td>-0.012530</td>\n",
       "      <td>15.000000</td>\n",
       "      <td>-0.038197</td>\n",
       "      <td>-0.013326</td>\n",
       "    </tr>\n",
       "    <tr>\n",
       "      <th>50%</th>\n",
       "      <td>165.220250</td>\n",
       "      <td>168.205000</td>\n",
       "      <td>165.470000</td>\n",
       "      <td>162.951750</td>\n",
       "      <td>88.129865</td>\n",
       "      <td>7.423746e+09</td>\n",
       "      <td>1.195463e+12</td>\n",
       "      <td>7.435490e+09</td>\n",
       "      <td>5.040343e+07</td>\n",
       "      <td>8.647332e+09</td>\n",
       "      <td>...</td>\n",
       "      <td>30.000000</td>\n",
       "      <td>30.000000</td>\n",
       "      <td>24.000000</td>\n",
       "      <td>0.415094</td>\n",
       "      <td>6.000000</td>\n",
       "      <td>0.500000</td>\n",
       "      <td>-0.006972</td>\n",
       "      <td>30.000000</td>\n",
       "      <td>0.054264</td>\n",
       "      <td>0.025953</td>\n",
       "    </tr>\n",
       "    <tr>\n",
       "      <th>75%</th>\n",
       "      <td>247.932500</td>\n",
       "      <td>252.330000</td>\n",
       "      <td>247.652500</td>\n",
       "      <td>243.147500</td>\n",
       "      <td>99.292037</td>\n",
       "      <td>1.088119e+10</td>\n",
       "      <td>1.904749e+12</td>\n",
       "      <td>1.271330e+10</td>\n",
       "      <td>7.417661e+07</td>\n",
       "      <td>1.360035e+10</td>\n",
       "      <td>...</td>\n",
       "      <td>50.000000</td>\n",
       "      <td>50.000000</td>\n",
       "      <td>29.000000</td>\n",
       "      <td>0.469697</td>\n",
       "      <td>7.000000</td>\n",
       "      <td>0.583333</td>\n",
       "      <td>-0.003461</td>\n",
       "      <td>48.000000</td>\n",
       "      <td>0.089939</td>\n",
       "      <td>0.043717</td>\n",
       "    </tr>\n",
       "    <tr>\n",
       "      <th>max</th>\n",
       "      <td>474.640000</td>\n",
       "      <td>480.880000</td>\n",
       "      <td>474.940000</td>\n",
       "      <td>467.420000</td>\n",
       "      <td>99.842052</td>\n",
       "      <td>1.561735e+10</td>\n",
       "      <td>3.086522e+12</td>\n",
       "      <td>1.572870e+10</td>\n",
       "      <td>3.065420e+08</td>\n",
       "      <td>5.863481e+10</td>\n",
       "      <td>...</td>\n",
       "      <td>60.000000</td>\n",
       "      <td>60.000000</td>\n",
       "      <td>44.000000</td>\n",
       "      <td>0.687500</td>\n",
       "      <td>12.000000</td>\n",
       "      <td>1.000000</td>\n",
       "      <td>0.004529</td>\n",
       "      <td>96.000000</td>\n",
       "      <td>0.426667</td>\n",
       "      <td>0.125187</td>\n",
       "    </tr>\n",
       "  </tbody>\n",
       "</table>\n",
       "<p>8 rows × 60 columns</p>\n",
       "</div>"
      ],
      "text/plain": [
       "              open         high        close          low    freeFloat  \\\n",
       "count  2696.000000  2696.000000  2696.000000  2696.000000  2696.000000   \n",
       "mean    187.663278   190.896827   187.709178   184.454097    91.639180   \n",
       "std      78.203997    79.477010    78.072209    76.724253     6.166856   \n",
       "min      11.997900    12.310000    11.950000    11.730000    85.571174   \n",
       "25%     126.923750   129.072450   126.712500   124.857500    85.589023   \n",
       "50%     165.220250   168.205000   165.470000   162.951750    88.129865   \n",
       "75%     247.932500   252.330000   247.652500   243.147500    99.292037   \n",
       "max     474.640000   480.880000   474.940000   467.420000    99.842052   \n",
       "\n",
       "        floatShares    market_cap  outstandingShares        volume  \\\n",
       "count  2.696000e+03  2.696000e+03       2.696000e+03  2.696000e+03   \n",
       "mean   7.344096e+09  1.312406e+12       7.936470e+09  5.922787e+07   \n",
       "std    4.715046e+09  7.459178e+11       4.923478e+09  3.789136e+07   \n",
       "min    2.196991e+09  3.074738e+10       2.470000e+09  1.300741e+06   \n",
       "25%    2.370830e+09  6.450220e+11       2.562730e+09  3.151665e+07   \n",
       "50%    7.423746e+09  1.195463e+12       7.435490e+09  5.040343e+07   \n",
       "75%    1.088119e+10  1.904749e+12       1.271330e+10  7.417661e+07   \n",
       "max    1.561735e+10  3.086522e+12       1.572870e+10  3.065420e+08   \n",
       "\n",
       "       dollar_volume  ...  duration_below_20ema_first_hour  \\\n",
       "count   2.696000e+03  ...                      2696.000000   \n",
       "mean    1.090469e+10  ...                        30.281899   \n",
       "std     8.013614e+09  ...                        22.229497   \n",
       "min     1.554385e+07  ...                         0.000000   \n",
       "25%     5.546487e+09  ...                        10.000000   \n",
       "50%     8.647332e+09  ...                        30.000000   \n",
       "75%     1.360035e+10  ...                        50.000000   \n",
       "max     5.863481e+10  ...                        60.000000   \n",
       "\n",
       "       duration_below_vwap_first_hour  \\\n",
       "count                     2696.000000   \n",
       "mean                        30.276335   \n",
       "std                         20.279303   \n",
       "min                          0.000000   \n",
       "25%                         10.000000   \n",
       "50%                         30.000000   \n",
       "75%                         50.000000   \n",
       "max                         60.000000   \n",
       "\n",
       "       number_of_red_candles_one_hour_before_open  \\\n",
       "count                                 2696.000000   \n",
       "mean                                    22.689911   \n",
       "std                                      8.643609   \n",
       "min                                      0.000000   \n",
       "25%                                     18.000000   \n",
       "50%                                     24.000000   \n",
       "75%                                     29.000000   \n",
       "max                                     44.000000   \n",
       "\n",
       "       percent_of_red_candles_one_hour_before_open  \\\n",
       "count                                  2696.000000   \n",
       "mean                                      0.403466   \n",
       "std                                       0.102278   \n",
       "min                                       0.000000   \n",
       "25%                                       0.354839   \n",
       "50%                                       0.415094   \n",
       "75%                                       0.469697   \n",
       "max                                       0.687500   \n",
       "\n",
       "       number_of_red_candles_one_hour_after_open  \\\n",
       "count                                2696.000000   \n",
       "mean                                    6.053412   \n",
       "std                                     1.695821   \n",
       "min                                     0.000000   \n",
       "25%                                     5.000000   \n",
       "50%                                     6.000000   \n",
       "75%                                     7.000000   \n",
       "max                                    12.000000   \n",
       "\n",
       "       percent_of_red_candles_one_hour_after_open  from_pm_high_to_open  \\\n",
       "count                                 2696.000000           2696.000000   \n",
       "mean                                     0.504451             -0.009558   \n",
       "std                                      0.141318              0.009290   \n",
       "min                                      0.000000             -0.104924   \n",
       "25%                                      0.416667             -0.012530   \n",
       "50%                                      0.500000             -0.006972   \n",
       "75%                                      0.583333             -0.003461   \n",
       "max                                      1.000000              0.004529   \n",
       "\n",
       "       days_til_next_earnings  eps_diff_percent  revenue_diff_percent  \n",
       "count             2696.000000         31.000000             22.000000  \n",
       "mean                31.870178          0.026153              0.019461  \n",
       "std                 20.092260          0.168498              0.047342  \n",
       "min                  0.000000         -0.595238             -0.051852  \n",
       "25%                 15.000000         -0.038197             -0.013326  \n",
       "50%                 30.000000          0.054264              0.025953  \n",
       "75%                 48.000000          0.089939              0.043717  \n",
       "max                 96.000000          0.426667              0.125187  \n",
       "\n",
       "[8 rows x 60 columns]"
      ]
     },
     "execution_count": 4,
     "metadata": {},
     "output_type": "execute_result"
    }
   ],
   "source": [
    "data.describe()"
   ]
  },
  {
   "cell_type": "code",
   "execution_count": 4,
   "id": "76d60d00",
   "metadata": {},
   "outputs": [],
   "source": [
    "# separate features and target variable\n",
    "#X = data.drop(['strat1','first_hour_move', 'first_hour_max_down'], axis=1)\n",
    "#y = data['strat1']"
   ]
  },
  {
   "cell_type": "code",
   "execution_count": 5,
   "id": "a849a6c4",
   "metadata": {},
   "outputs": [],
   "source": [
    "X = data[['week_day', 'gap', 'open_from_BB_up', 'ticker', 'pm_dollar_volume','x_day_high_at_open', '1month_change_from_high']]\n",
    "y = data['first_hour_move']"
   ]
  },
  {
   "cell_type": "code",
   "execution_count": 9,
   "id": "9cdb6c9e",
   "metadata": {},
   "outputs": [],
   "source": [
    "# split data into training and testing sets\n",
    "X_train, X_test, y_train, y_test = train_test_split(X, y, test_size=0.7, random_state=42)"
   ]
  },
  {
   "cell_type": "code",
   "execution_count": 11,
   "id": "9dbbecbf",
   "metadata": {},
   "outputs": [],
   "source": [
    "# define the XGBoost classifier model\n",
    "model = xgb.XGBRegressor()"
   ]
  },
  {
   "cell_type": "code",
   "execution_count": 18,
   "id": "80f3e4a5",
   "metadata": {},
   "outputs": [],
   "source": [
    "# Create regression matrices\n",
    "dtrain = xgb.DMatrix(X_train, y_train, enable_categorical=True)\n",
    "dtest = xgb.DMatrix(X_test, y_test, enable_categorical=True)"
   ]
  },
  {
   "cell_type": "code",
   "execution_count": 17,
   "id": "1603dba9",
   "metadata": {},
   "outputs": [],
   "source": [
    "# Paramètres pour XGBRegressor\n",
    "params = {\n",
    "    'objective': 'reg:squarederror'\n",
    "}"
   ]
  },
  {
   "cell_type": "code",
   "execution_count": 19,
   "id": "1a611507",
   "metadata": {},
   "outputs": [],
   "source": [
    "# train the XGBoost model\n",
    "bst = xgb.train(params, dtrain)"
   ]
  },
  {
   "cell_type": "code",
   "execution_count": 22,
   "id": "c2286b45",
   "metadata": {},
   "outputs": [
    {
     "name": "stdout",
     "output_type": "stream",
     "text": [
      "Mean Squared Error: 0.0004202507835933398\n"
     ]
    }
   ],
   "source": [
    "# make predictions on the test set\n",
    "y_pred = bst.predict(dtest)\n",
    "mse = mean_squared_error(y_test, y_pred)\n",
    "print(f\"Mean Squared Error: {mse}\")"
   ]
  },
  {
   "cell_type": "code",
   "execution_count": 24,
   "id": "641d278f",
   "metadata": {},
   "outputs": [
    {
     "data": {
      "image/png": "[encoded data removed]",
      "text/plain": [
       "<Figure size 640x480 with 1 Axes>"
      ]
     },
     "metadata": {},
     "output_type": "display_data"
    }
   ],
   "source": [
    "import matplotlib.pyplot as plt\n",
    "xgb.plot_importance(bst)\n",
    "plt.show()"
   ]
  },
  {
   "cell_type": "code",
   "execution_count": 26,
   "id": "409d31f3",
   "metadata": {},
   "outputs": [
    {
     "name": "stdout",
     "output_type": "stream",
     "text": [
      "       week_day       gap  open_from_BB_up ticker  pm_dollar_volume  \\\n",
      "1263    Tuesday  0.028289         0.332246   NVDA      6.123801e+08   \n",
      "433   Wednesday  0.007425         0.090865   AAPL      2.218693e+08   \n",
      "2658     Friday -0.001368         0.035646   AMZN      1.139146e+08   \n",
      "2312     Monday -0.025539              NaN   AMZN      4.679935e+08   \n",
      "869     Tuesday  0.000117         0.158645  GOOGL      1.972578e+07   \n",
      "...         ...       ...              ...    ...               ...   \n",
      "612     Tuesday  0.010726         0.109350   AAPL      3.782866e+08   \n",
      "424   Wednesday  0.006978         0.030809   AAPL      2.503882e+08   \n",
      "1577     Friday  0.013176        -0.026797   NVDA      6.609854e+08   \n",
      "594    Thursday -0.024216         0.174361   AAPL      4.137075e+08   \n",
      "2671   Thursday -0.002092         0.016062   AMZN      1.129601e+08   \n",
      "\n",
      "      x_day_high_at_open  1month_change_from_high      pred  first_hour_move  \n",
      "1263                   1                -0.249581  0.032075        -0.017172  \n",
      "433                    0                -0.091956  0.020299        -0.009967  \n",
      "2658                   0                -0.025116  0.013813         0.010719  \n",
      "2312                   0                -0.151759  0.014747         0.008993  \n",
      "869                    0                -0.090665  0.018788         0.009765  \n",
      "...                  ...                      ...       ...              ...  \n",
      "612                    1                -0.104276  0.010822        -0.014030  \n",
      "424                    3                 0.000000  0.018357        -0.001874  \n",
      "1577                 383                -0.011049  0.016085         0.019432  \n",
      "594                    0                -0.088655  0.019722         0.005781  \n",
      "2671                   0                -0.017288  0.012340        -0.009397  \n",
      "\n",
      "[1888 rows x 9 columns]\n"
     ]
    }
   ],
   "source": [
    "X_test['pred'] = y_pred\n",
    "X_test['first_hour_move'] = y_test\n",
    "print(X_test)"
   ]
  },
  {
   "cell_type": "code",
   "execution_count": 27,
   "id": "3ccdb6b5",
   "metadata": {},
   "outputs": [],
   "source": [
    "X_test.to_csv(\"predictions_xgboost_reg.csv\", index = False)"
   ]
  },
  {
   "cell_type": "markdown",
   "id": "9814242c",
   "metadata": {},
   "source": [
    "# PnL Calculation"
   ]
  },
  {
   "cell_type": "code",
   "execution_count": 12,
   "id": "26923513",
   "metadata": {},
   "outputs": [],
   "source": [
    "# calcule la PnL\n",
    "X_test['pred'] = y_pred\n",
    "X_test['strat1'] = y_test\n",
    "X_test = X_test.join(data['first_hour_move'], how='inner')\n",
    "X_test = X_test.join(data['first_hour_max_down'], how='inner')"
   ]
  },
  {
   "cell_type": "code",
   "execution_count": 13,
   "id": "b2913efa",
   "metadata": {
    "scrolled": true
   },
   "outputs": [
    {
     "name": "stdout",
     "output_type": "stream",
     "text": [
      "509\n",
      "7.71766917293233\n"
     ]
    }
   ],
   "source": [
    "\"\"\"\n",
    "# first hour config.\n",
    "number_of_trades = 0\n",
    "pnl = 0\n",
    "for index, row in X_test.iterrows():\n",
    "    if row['pred'] > 0.5:\n",
    "        number_of_trades +=1\n",
    "        if row['strat1'] == True:\n",
    "            pnl += 1.5\n",
    "        elif row['first_hour_max_down'] > -0.01:\n",
    "            pnl = 100*row['first_hour_move']\n",
    "        else:\n",
    "            pnl -= 1\n",
    "\n",
    "print(number_of_trades)\n",
    "print(pnl)\n",
    "\"\"\""
   ]
  },
  {
   "cell_type": "code",
   "execution_count": 14,
   "id": "82c82988",
   "metadata": {},
   "outputs": [
    {
     "data": {
      "text/plain": [
       "(2700, 16)"
      ]
     },
     "execution_count": 14,
     "metadata": {},
     "output_type": "execute_result"
    }
   ],
   "source": [
    "X_test.shape"
   ]
  },
  {
   "cell_type": "markdown",
   "id": "0a6583e7",
   "metadata": {},
   "source": [
    "# Test on additionnal data"
   ]
  },
  {
   "cell_type": "code",
   "execution_count": 12,
   "id": "0ae99f8e",
   "metadata": {},
   "outputs": [],
   "source": [
    "data_test = pd.read_csv(r'C:\\Users\\33670\\Desktop\\framework\\data_collection\\historical_data\\strat1_test.csv')"
   ]
  },
  {
   "cell_type": "code",
   "execution_count": 13,
   "id": "243c5a82",
   "metadata": {},
   "outputs": [
    {
     "name": "stdout",
     "output_type": "stream",
     "text": [
      "ticker                                         category\n",
      "above_20sma                                        bool\n",
      "green_days                                      float64\n",
      "red_days                                        float64\n",
      "from_pm_high_to_open                            float64\n",
      "gap                                             float64\n",
      "market_cap                                      float64\n",
      "number_of_red_candles_one_hour_before_open      float64\n",
      "percent_of_red_candles_one_hour_before_open     float64\n",
      "pm_float_rotation                               float64\n",
      "sigma_percent                                   float64\n",
      "strat1                                             bool\n",
      "pm_dollar_volume                                float64\n",
      "dtype: object\n"
     ]
    }
   ],
   "source": [
    "data_test['ticker'] = data_test[\"ticker\"].astype(\"category\")\n",
    "print(data_test.dtypes)"
   ]
  },
  {
   "cell_type": "code",
   "execution_count": 14,
   "id": "d2175bf2",
   "metadata": {},
   "outputs": [],
   "source": [
    "X_test2 = data_test.drop('strat1', axis=1)\n",
    "y_test2 = data_test['strat1']"
   ]
  },
  {
   "cell_type": "code",
   "execution_count": 15,
   "id": "e82b47f9",
   "metadata": {},
   "outputs": [],
   "source": [
    "dtest_reg2 = xgb.DMatrix(X_test2, y_test2, enable_categorical=True)"
   ]
  },
  {
   "cell_type": "code",
   "execution_count": 16,
   "id": "0623e335",
   "metadata": {},
   "outputs": [],
   "source": [
    "y_pred_test = model.predict(dtest_reg2)"
   ]
  },
  {
   "cell_type": "code",
   "execution_count": 17,
   "id": "2fec0240",
   "metadata": {},
   "outputs": [
    {
     "name": "stdout",
     "output_type": "stream",
     "text": [
      "Accuracy: 83.97%\n"
     ]
    }
   ],
   "source": [
    "accuracy = accuracy_score(y_test2, y_pred_test.round())\n",
    "print('Accuracy: {:.2f}%'.format(accuracy * 100))"
   ]
  },
  {
   "cell_type": "code",
   "execution_count": 19,
   "id": "caa3178a",
   "metadata": {},
   "outputs": [],
   "source": [
    "data_test['pred'] = y_pred_test"
   ]
  },
  {
   "cell_type": "code",
   "execution_count": 36,
   "id": "a68b9bbb",
   "metadata": {},
   "outputs": [
    {
     "data": {
      "text/plain": [
       "(200, 14)"
      ]
     },
     "execution_count": 36,
     "metadata": {},
     "output_type": "execute_result"
    }
   ],
   "source": [
    "data_test[data_test['pred']>0.6].shape"
   ]
  },
  {
   "cell_type": "code",
   "execution_count": 37,
   "id": "4c105b44",
   "metadata": {},
   "outputs": [
    {
     "name": "stderr",
     "output_type": "stream",
     "text": [
      "C:\\Users\\33670\\AppData\\Local\\Temp\\ipykernel_1636\\4038829011.py:1: UserWarning: Boolean Series key will be reindexed to match DataFrame index.\n",
      "  data_test[data_test['pred']>0.6][data_test['strat1'] == True].shape\n"
     ]
    },
    {
     "data": {
      "text/plain": [
       "(105, 14)"
      ]
     },
     "execution_count": 37,
     "metadata": {},
     "output_type": "execute_result"
    }
   ],
   "source": [
    "data_test[data_test['pred']>0.6][data_test['strat1'] == True].shape"
   ]
  },
  {
   "cell_type": "code",
   "execution_count": 39,
   "id": "61314cdf",
   "metadata": {},
   "outputs": [
    {
     "name": "stderr",
     "output_type": "stream",
     "text": [
      "C:\\Users\\33670\\AppData\\Local\\Temp\\ipykernel_1636\\3715162864.py:1: UserWarning: Boolean Series key will be reindexed to match DataFrame index.\n",
      "  data_test[data_test['strat1'] == True][data_test['pred']>0.6].shape\n"
     ]
    },
    {
     "data": {
      "text/plain": [
       "(105, 14)"
      ]
     },
     "execution_count": 39,
     "metadata": {},
     "output_type": "execute_result"
    }
   ],
   "source": [
    "data_test[data_test['strat1'] == True][data_test['pred']>0.6].shape"
   ]
  },
  {
   "cell_type": "code",
   "execution_count": 29,
   "id": "6b4da73e",
   "metadata": {},
   "outputs": [
    {
     "data": {
      "text/plain": [
       "0        False\n",
       "1        False\n",
       "2        False\n",
       "3        False\n",
       "4         True\n",
       "         ...  \n",
       "22846     True\n",
       "22847    False\n",
       "22848    False\n",
       "22849     True\n",
       "22850     True\n",
       "Name: strat1, Length: 22851, dtype: bool"
      ]
     },
     "execution_count": 29,
     "metadata": {},
     "output_type": "execute_result"
    }
   ],
   "source": [
    "y_test2"
   ]
  },
  {
   "cell_type": "code",
   "execution_count": null,
   "id": "8997506c",
   "metadata": {},
   "outputs": [],
   "source": []
  }
 ],
 "metadata": {
  "kernelspec": {
   "display_name": "Python [conda env:py38] *",
   "language": "python",
   "name": "conda-env-py38-py"
  },
  "language_info": {
   "codemirror_mode": {
    "name": "ipython",
    "version": 3
   },
   "file_extension": ".py",
   "mimetype": "text/x-python",
   "name": "python",
   "nbconvert_exporter": "python",
   "pygments_lexer": "ipython3",
   "version": "3.8.13"
  }
 },
 "nbformat": 4,
 "nbformat_minor": 5
}
