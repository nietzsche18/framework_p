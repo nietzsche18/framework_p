{
 "cells": [
  {
   "cell_type": "code",
   "execution_count": 1,
   "id": "55867671",
   "metadata": {},
   "outputs": [],
   "source": [
    "import pandas as pd\n",
    "import mplfinance as mpf\n",
    "import requests\n",
    "import numpy as np\n",
    "\n",
    "def get_ohlc(ticker,date):\n",
    "    url = \"https://api.polygon.io/v2/aggs/ticker/\"+ str(ticker) +\"/range/5/minute/\"+ date +\"/\"+ date +\"?adjusted=true&sort=asc&apiKey=AmUE0EZEpoHRVhOqO7OUDB6Szrugvtp0\"\n",
    "    response = requests.get(url)\n",
    "    #print(json.dumps(response.json(), indent=1))\n",
    "    return response.json()['results']   \n",
    "\n",
    "ohlc_data = get_ohlc('AAPL', '2023-08-29')\n",
    "df = pd.DataFrame.from_records(ohlc_data)"
   ]
  },
  {
   "cell_type": "code",
   "execution_count": 4,
   "id": "ca7343fa",
   "metadata": {},
   "outputs": [
    {
     "name": "stdout",
     "output_type": "stream",
     "text": [
      "          v        vw       o       c       h       l              t    n  \\\n",
      "0    5278.0  180.2828  180.25  180.31  180.38  180.25  1693296000000  132   \n",
      "1    1157.0  180.2172  180.28  180.19  180.28  180.19  1693296300000   55   \n",
      "2    4094.0  180.0542  180.10  180.01  180.10  180.01  1693296600000   60   \n",
      "3    1643.0  180.0198  180.02  180.03  180.04  180.01  1693296900000   22   \n",
      "4     100.0  180.0500  180.05  180.05  180.05  180.05  1693297200000    1   \n",
      "..      ...       ...     ...     ...     ...     ...            ...  ...   \n",
      "186  3649.0  184.5428  184.55  184.52  184.58  184.52  1693352100000   84   \n",
      "187  1324.0  184.5614  184.56  184.58  184.58  184.55  1693352400000   51   \n",
      "188  3996.0  184.5757  184.58  184.56  184.60  184.54  1693352700000   73   \n",
      "189  5475.0  184.5023  184.55  184.49  184.58  184.43  1693353000000  127   \n",
      "190  7695.0  184.5266  184.48  184.57  184.59  184.45  1693353300000  128   \n",
      "\n",
      "     modified_rolling_mean  modified_rolling_sum  \n",
      "0                      NaN                   NaN  \n",
      "1                      NaN                   NaN  \n",
      "2                      NaN                   NaN  \n",
      "3                      NaN                   NaN  \n",
      "4                      NaN                   NaN  \n",
      "..                     ...                   ...  \n",
      "186             184.545370              0.063626  \n",
      "187             184.536870              0.053125  \n",
      "188             184.534370              0.048326  \n",
      "189             184.535755              0.047148  \n",
      "190             184.531755              0.048919  \n",
      "\n",
      "[191 rows x 10 columns]\n"
     ]
    }
   ],
   "source": [
    "def rolling_mean_with_open(window):\n",
    "    window[-1] = df['o'].iloc[window.index[-1]]\n",
    "    return np.mean(window)\n",
    "\n",
    "def rolling_sum_with_open(window):\n",
    "    window[-1] = df['o'].iloc[window.index[-1]]\n",
    "    return np.std(window)\n",
    "\n",
    "\n",
    "# Créez une colonne de moyenne glissante modifiée\n",
    "df['modified_rolling_mean'] = df['c'].shift(1).rolling(window=19).apply(rolling_mean_with_open, raw=False)\n",
    "df['modified_rolling_sum'] = df['c'].shift(1).rolling(window=19).apply(rolling_sum_with_open, raw=False)\n",
    "print(df)\n"
   ]
  },
  {
   "cell_type": "code",
   "execution_count": 3,
   "id": "18a29c29",
   "metadata": {},
   "outputs": [],
   "source": [
    "df.to_csv(r'C:\\Users\\33670\\Desktop\\framework\\data_collection\\historical_data/to_delete.csv', index=False)"
   ]
  },
  {
   "cell_type": "code",
   "execution_count": null,
   "id": "79267d24",
   "metadata": {},
   "outputs": [],
   "source": []
  }
 ],
 "metadata": {
  "kernelspec": {
   "display_name": "Python [conda env:py38] *",
   "language": "python",
   "name": "conda-env-py38-py"
  },
  "language_info": {
   "codemirror_mode": {
    "name": "ipython",
    "version": 3
   },
   "file_extension": ".py",
   "mimetype": "text/x-python",
   "name": "python",
   "nbconvert_exporter": "python",
   "pygments_lexer": "ipython3",
   "version": "3.8.13"
  }
 },
 "nbformat": 4,
 "nbformat_minor": 5
}
